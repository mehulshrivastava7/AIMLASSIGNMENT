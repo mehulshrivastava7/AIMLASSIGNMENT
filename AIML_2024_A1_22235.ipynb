{
  "cells": [
    {
      "cell_type": "markdown",
      "source": [
        "# UMC 203: Artificial Intelligence and Machine Learning\n",
        "# Assignment 1\n",
        "\n"
      ],
      "metadata": {
        "id": "80NpGFmiKdui"
      }
    },
    {
      "cell_type": "markdown",
      "source": [
        "## Setup"
      ],
      "metadata": {
        "id": "_HqFH4UkOAU8"
      }
    },
    {
      "cell_type": "markdown",
      "source": [
        "**Please** run the code below *after modifying it* appropriately every time you connect to an environment."
      ],
      "metadata": {
        "id": "0MvfJ4Y1Nsa-"
      }
    },
    {
      "cell_type": "code",
      "source": [
        "# 1. Connect Google Drive to Colab\n",
        "from google.colab import drive\n",
        "drive.mount('/content/drive')\n",
        "\n",
        "# 2. Copy the zip file into the current working directory\n",
        "# Replace '/content/drive/MyDrive/AIML_A1.zip' with the correct path to your zip file\n",
        "!cp '/content/drive/MyDrive/AIML_A1.zip' .\n",
        "\n",
        "# 3. Extract the zip file\n",
        "!unzip AIML_A1.zip\n"
      ],
      "outputs": [
        {
          "output_type": "stream",
          "name": "stdout",
          "text": "Drive already mounted at /content/drive; to attempt to forcibly remount, call drive.mount(\"/content/drive\", force_remount=True).\nArchive:  AIML_A1.zip\nreplace pyarmor_runtime_000000/pyarmor_runtime.so? [y]es, [n]o, [A]ll, [N]one, [r]ename: "
        }
      ],
      "execution_count": 60,
      "metadata": {
        "id": "PN_ZWwiSKTom",
        "colab": {
          "base_uri": "https://localhost:8080/"
        },
        "executionInfo": {
          "status": "ok",
          "timestamp": 1709069334732,
          "user_tz": -330,
          "elapsed": 30683,
          "user": {
            "displayName": "kush shrivastava",
            "userId": "06343033913709852627"
          }
        },
        "outputId": "c9d65d7e-ce48-4530-e140-e2f4a21e6c95"
      }
    },
    {
      "cell_type": "code",
      "source": [
        "import oracle as AIML_A1"
      ],
      "outputs": [],
      "execution_count": 61,
      "metadata": {
        "id": "0p4LGvmqO721",
        "executionInfo": {
          "status": "ok",
          "timestamp": 1709069347945,
          "user_tz": -330,
          "elapsed": 785,
          "user": {
            "displayName": "kush shrivastava",
            "userId": "06343033913709852627"
          }
        }
      }
    },
    {
      "cell_type": "markdown",
      "source": [
        "## Question 1: Naive Bayes"
      ],
      "metadata": {
        "id": "99ikdazdOCOC"
      }
    },
    {
      "cell_type": "code",
      "source": [
        "# Instructions and calling conventions for the different functions\n",
        "\n",
        "# PLEASE PROVIDE YOUR OWN SR NUMBERS TO ALL FUNCTIONS\n",
        "mysrn = 22235\n",
        "\n",
        "# q1_get_loss provides l(0,1) and l(1,0) in the setting discussed in the assignment\n",
        "help(AIML_A1.q1_get_loss)\n",
        "# eg:\n",
        "l1, l2 = AIML_A1.q1_get_loss(mysrn)\n",
        "print(f\"l(0,1)={l1}, l(1,0)={l2}\")\n",
        "\n",
        "# q1_get_train_set returns a training set wih the number of required samples\n",
        "help(AIML_A1.q1_get_train_set)\n",
        "q1_train_data_5 = AIML_A1.q1_get_train_set(mysrn,2)\n",
        "print(q1_train_data_5)\n",
        "\n",
        "# q1_get_test_set returns the test set\n",
        "help(AIML_A1.q1_get_test_set)\n",
        "q1_test_data = AIML_A1.q1_get_test_set(mysrn)\n",
        "len(q1_test_data)\n",
        "print(q1_test_data)\n",
        "len(q1_test_data)"
      ],
      "outputs": [
        {
          "output_type": "stream",
          "name": "stdout",
          "text": "Help on function q1_get_loss in module oracle:\n\nq1_get_loss(srn: int) -> tuple[int, int]\n    srn: 5 digit number.\n    \n    Returns a 2-tuple.\n    The first element of the tuple is l(0,1) and the second is l(1,0)\n\nl(0,1)=5, l(1,0)=1\nHelp on function q1_get_train_set in module oracle:\n\nq1_get_train_set(srn: int, num_samples: int) -> list[tuple[numpy.ndarray, int]]\n    srn: 5 digit number.\n    num_samples: Number of test samples required.\n    \n    This function returns `num_samples' instances of data drawn from \n    the distribution described in the assignment.\n    \n    Returns a list whose elements are 2-tuples.\n    The first element of the tuple is x and the second is the label, (1 or 0)\n\n[(array([-1.18332,  0.05787, -1.70606, -1.36334, -3.01054]), 0.0), (array([-1.10626, -4.04241, -0.04915, -0.80319, -1.9237 ]), 0.0), (array([-0.1016 ,  0.77151, -0.51281,  2.33545, -0.03947]), 1.0), (array([-0.20113,  0.98356, -0.34654, -0.40688,  3.91396]), 1.0)]\nHelp on function q1_get_test_set in module oracle:\n\nq1_get_test_set(srn: int) -> list[tuple[numpy.ndarray, int]]\n    srn: 5 digit number.\n    \n    This function returns 100 test samples drawn from \n    the distribution described in the assignment.\n    \n    YOU ARE NOT SUPPOSED TO USE THIS DATA TO COMPUTE THE CLASSIFIER.\n    ONLY REPORT THE ACCURACY ON THIS SET.\n    \n    Returns a list whose elements are 2-tuples.\n    The first element of the tuple is x and the second is the label, (1 or 0)\n\n[(array([ 0.37233, -0.97818, -0.99766, -0.08896, -0.67887]), 1.0), (array([ 1.36423,  2.79263, -1.73794,  2.7485 , -0.29734]), 1.0), (array([-1.05936, -1.78903, -1.9338 , -2.21958, -6.1568 ]), 0.0), (array([-0.37684,  1.3343 ,  3.86645, -0.86737, -1.54813]), 1.0), (array([ 0.07611,  1.48847, -0.39515, -3.36389, -0.90214]), 0.0), (array([-1.92871, -2.29885,  0.27932,  1.83813, -0.90884]), 0.0), (array([-4.15877, -1.49816,  1.66322,  0.5273 , -3.99463]), 0.0), (array([ 0.07536,  0.83236,  1.10155, -2.57998, -3.58206]), 0.0), (array([-0.25157,  2.09113, -1.37909, -1.75907,  1.29008]), 0.0), (array([ 2.24883,  2.77853,  0.62072, -1.22001,  0.14919]), 1.0), (array([-0.69322, -3.25614,  1.42975,  3.80999,  2.3236 ]), 1.0), (array([-1.30907, -1.16831, -3.37629,  0.65555,  0.18093]), 0.0), (array([-2.26063, -3.30339, -1.45089,  0.68755, -2.98554]), 0.0), (array([-1.82493,  0.5383 , -1.98135,  2.99459,  0.11047]), 1.0), (array([ 1.38189, -1.09297,  1.0094 , -1.2254 , -3.71341]), 0.0), (array([-1.00623,  0.2338 , -1.51285, -2.61716,  1.95832]), 0.0), (array([-2.01384,  0.95241, -1.86088, -3.88236, -0.71055]), 0.0), (array([ 2.14917,  2.44798,  0.42562,  1.52912, -2.27523]), 1.0), (array([-0.86236, -4.86697, -0.35848,  1.89997,  0.34784]), 0.0), (array([-0.30692, -1.7703 , -1.267  , -2.09544, -0.70505]), 0.0), (array([-0.96344,  0.56493, -2.02658, -0.33756,  1.65546]), 0.0), (array([-0.57754, -0.46644, -1.24172, -2.58604, -1.72535]), 0.0), (array([-0.7715 , -0.49647, -0.97891, -1.10091, -3.9755 ]), 0.0), (array([-2.98171,  0.89793, -0.00473,  0.46159, -1.33973]), 0.0), (array([-1.40154, -0.08596,  0.2492 , -2.32347, -1.32981]), 0.0), (array([0.57769, 0.99977, 1.72976, 1.88288, 2.83413]), 1.0), (array([-0.21042,  0.43981,  1.04258,  0.73088,  1.9155 ]), 1.0), (array([-0.2468 ,  1.95497, -0.31772,  1.5458 ,  0.67968]), 1.0), (array([ 1.39491,  1.2311 , -1.58249,  1.13026,  1.7212 ]), 1.0), (array([-1.61194, -2.36378, -3.65772, -0.28367, -4.37256]), 0.0), (array([-1.7871 , -0.08991,  0.97818, -1.66686,  2.90863]), 0.0), (array([-1.61775, -1.64391, -0.96974,  0.22698, -0.68967]), 0.0), (array([-1.00113, -1.41293, -3.16999, -0.20507, -5.91072]), 0.0), (array([-0.79139,  0.38275,  1.81465,  2.80801,  0.3942 ]), 1.0), (array([-0.36326, -3.41005, -0.72597,  0.20658,  2.6541 ]), 1.0), (array([-1.48085,  0.39394,  1.42867,  3.00058, -1.55972]), 1.0), (array([2.41937, 3.00788, 1.19057, 0.83772, 2.11161]), 1.0), (array([-1.77457, -2.67158,  1.41102, -1.37219, -1.14534]), 0.0), (array([ 1.27245, -1.37686,  0.82398,  4.69233, -1.94196]), 0.0), (array([ 1.08062,  3.86412, -0.44658, -0.07589,  3.56096]), 1.0), (array([ 0.45913, -1.23222,  4.32851,  4.30861, -0.41039]), 1.0), (array([-0.8177 ,  0.27601, -2.26712, -1.9334 ,  1.92585]), 0.0), (array([-0.14388, -0.15497,  2.93839,  3.47311,  4.43709]), 1.0), (array([ 1.01041, -1.51713, -2.52586, -3.4848 , -1.30658]), 0.0), (array([-0.32504,  0.42644,  1.14116,  2.42079, -0.6633 ]), 1.0), (array([ 2.06162, -0.179  , -0.06472,  1.93048, -2.09163]), 1.0), (array([1.87088, 2.7452 , 2.44845, 3.22198, 2.13191]), 1.0), (array([ 0.56012,  1.98228,  2.45439,  0.31   , -3.34813]), 1.0), (array([ 0.92573, -1.52779,  0.99852,  1.04891,  3.41644]), 1.0), (array([2.82963, 2.67783, 1.54077, 3.52394, 1.62145]), 1.0), (array([ 1.57907, -1.1574 , -0.43392,  2.7164 ,  5.89203]), 1.0), (array([ 2.13824,  1.28842, -0.69479,  1.44632,  2.28397]), 1.0), (array([-1.90494, -1.45037, -3.124  , -0.48879, -3.66137]), 0.0), (array([-1.59678,  0.68804, -0.98187,  1.22776, -2.68269]), 0.0), (array([ 1.25697, -0.22699,  0.02467,  1.5242 ,  2.78925]), 1.0), (array([-0.97821,  0.08887, -1.02705, -3.36828,  2.01894]), 0.0), (array([ 1.66604, -1.56936, -1.53835,  2.31958, -2.55188]), 0.0), (array([ 1.01934,  1.3186 ,  5.37057, -0.53582,  0.92804]), 1.0), (array([-2.13134, -3.62144, -1.44842,  0.436  , -2.61781]), 0.0), (array([ 0.21042, -1.1434 , -0.50396, -4.06865,  3.8023 ]), 0.0), (array([ 2.93402,  0.32735,  1.60445,  0.07081, -2.89628]), 1.0), (array([ 2.14582, -1.26914,  0.23668,  2.50346,  0.98705]), 1.0), (array([ 2.66196,  4.75632,  0.52092, -0.85962, -2.44379]), 1.0), (array([-3.50116e+00,  9.73870e-01,  1.47550e-01,  2.76450e-01,\n        2.11000e-03]), 1.0), (array([-0.1016 ,  0.77151, -0.51281,  2.33545, -0.03947]), 1.0), (array([ 2.63051,  0.82224, -0.35075,  0.28987,  1.2196 ]), 1.0), (array([-0.83681, -3.82321, -1.17895, -0.46844, -0.11654]), 0.0), (array([-3.85207, -0.55468,  0.21957,  1.42707, -1.16372]), 0.0), (array([-2.44299, -0.50235, -5.26645, -0.68957,  1.19973]), 0.0), (array([-2.30026,  0.53207, -1.00317, -2.70558,  1.07439]), 0.0), (array([0.66696, 0.38249, 0.79098, 0.23744, 0.71529]), 1.0), (array([ 1.29648, -1.04775, -2.78525, -1.67633, -4.89825]), 0.0), (array([-0.87354,  1.29871, -3.67291, -4.18377, -3.06977]), 0.0), (array([-0.56957, -1.49405,  0.92176, -0.43555,  3.6089 ]), 0.0), (array([-0.30232, -0.53372, -3.76935, -1.28008, -2.13634]), 0.0), (array([ 1.88091,  0.57502,  2.77872,  3.69172, -0.66201]), 1.0), (array([ 1.68369,  0.83301,  1.3915 , -0.92422,  1.26399]), 1.0), (array([-0.03752, -0.37141,  0.46481,  0.91739,  0.026  ]), 1.0), (array([-1.77163,  1.3847 ,  0.6045 ,  0.02708,  2.54946]), 1.0), (array([ 0.46922,  1.17794,  1.50885, -1.14141,  4.46492]), 1.0), (array([-0.20113,  0.98356, -0.34654, -0.40688,  3.91396]), 1.0), (array([-2.72778,  3.33923,  1.45493,  1.95981, -0.35499]), 1.0), (array([-1.04894, -0.04112, -2.84591,  0.88805, -1.32152]), 0.0), (array([ 2.4655 ,  0.08929,  2.33752, -1.68636, -4.62412]), 1.0), (array([ 2.68349,  1.49091, -1.46784,  2.07808,  5.86038]), 1.0), (array([-0.92462, -3.08978, -2.31474, -0.89909, -3.64047]), 0.0), (array([ 1.46233, -0.13136,  1.08866,  0.84923,  1.4899 ]), 1.0), (array([-3.98625, -1.99897, -0.54789,  1.08714, -0.55889]), 0.0), (array([1.03923, 0.42314, 3.39555, 1.39847, 2.07141]), 1.0), (array([2.86987, 0.07667, 3.2569 , 1.60785, 1.86812]), 1.0), (array([-1.66056, -3.09451,  0.72485, -2.14162,  0.79595]), 0.0), (array([ 2.99815,  0.23508,  2.01852,  0.45949, -1.69149]), 1.0), (array([1.88537, 1.88583, 1.01153, 1.94454, 0.9529 ]), 1.0), (array([-0.60139, -0.49189, -2.73853, -2.85111, -1.93925]), 0.0), (array([ 3.48142, -0.4845 , -0.77177,  1.97822,  3.48134]), 1.0), (array([-1.25812, -2.80473,  0.05344, -1.23392, -3.3583 ]), 0.0), (array([ 0.16012, -0.76975,  1.40549, -1.22258, -0.99751]), 0.0), (array([ 1.36012,  1.39368, -0.87593,  3.08737, -1.90474]), 1.0), (array([-2.48271e+00,  3.68823e+00,  1.69080e+00, -1.88775e+00,\n       -2.94000e-03]), 1.0), (array([ 0.79116,  3.43518, -2.05746, -3.89008, -3.29558]), 0.0), (array([-3.18657, -0.99124, -1.97727, -1.10122, -2.77849]), 0.0), (array([ 0.27131,  2.0146 ,  1.6149 ,  0.84095, -1.80253]), 1.0), (array([ 3.80106, -0.05027, -1.12583, -0.30194,  3.75622]), 1.0), (array([-0.86749,  4.17297, -0.38181,  0.86273, -2.04797]), 1.0), (array([-0.9068 , -2.55144, -3.3163 , -0.99918, -0.03495]), 0.0), (array([ 0.24566, -0.93777, -0.1205 , -4.39879, -0.79609]), 0.0), (array([2.14356, 1.91923, 2.01631, 2.84613, 2.11075]), 1.0), (array([ 1.05622,  1.117  , -1.77462,  0.25269,  0.53785]), 1.0), (array([-0.10505,  1.32606,  0.01495,  3.39027, -1.56126]), 1.0), (array([ 0.00706, -1.35588, -3.64711,  1.66341, -3.16164]), 0.0), (array([1.7715 , 1.47024, 3.08487, 2.88096, 0.10388]), 1.0), (array([ 0.23077,  0.28055, -0.83114,  0.50916,  0.32357]), 0.0), (array([-1.68154,  1.30968,  4.1814 , -0.35949, -3.20824]), 1.0), (array([ 0.80393, -1.64065, -2.01674, -0.60355, -1.04518]), 0.0), (array([-2.15732, -1.544  , -3.20342, -1.21263, -3.15513]), 0.0), (array([ 1.62853,  0.74685, -0.22957, -4.98004, -2.47309]), 0.0), (array([ 0.19638,  1.28645,  0.44182, -0.53544, -1.46922]), 1.0), (array([ 1.64922,  0.28526, -1.25928,  0.88236, -1.01598]), 0.0), (array([ 2.48504, -1.41491,  3.91447,  0.17242, -3.35811]), 1.0), (array([-0.79422, -2.01344, -0.39833,  2.93634,  0.13349]), 0.0), (array([-0.86522, -0.07918, -1.06224, -1.33818,  0.14294]), 1.0), (array([-2.36509, -1.7515 , -1.10884, -1.71356,  0.98723]), 0.0), (array([1.08366, 0.43103, 0.90263, 0.73002, 2.71386]), 1.0), (array([-1.25247,  2.83174,  0.94301,  1.66985,  0.25728]), 1.0), (array([0.48535, 1.10369, 1.29354, 2.4341 , 1.40229]), 1.0), (array([1.04084, 0.71718, 1.25849, 1.24615, 4.86925]), 1.0), (array([-1.63496, -2.63516, -2.6644 , -2.952  ,  0.49338]), 0.0), (array([ 0.90374,  1.4778 ,  2.62238, -0.14735,  3.34678]), 1.0), (array([0.18098, 0.16788, 2.89948, 1.68126, 3.81659]), 1.0), (array([-1.70707, -0.57864, -1.01552, -2.83941,  0.98811]), 0.0), (array([ 0.41768,  0.27758, -1.21393,  2.77972, -0.67966]), 1.0), (array([ 1.50308, -2.63146, -0.23287,  0.49056,  0.59646]), 0.0), (array([-1.46891, -0.26641, -1.82355,  2.68004, -3.17296]), 0.0), (array([1.33569, 0.54643, 3.03989, 3.46627, 0.48951]), 1.0), (array([-1.25423, -0.59796,  0.54754, -2.77121, -2.81267]), 0.0), (array([-1.92619,  0.25564, -1.20112, -0.54926, -2.57071]), 0.0), (array([ 3.89712, -2.71755,  2.20423,  2.14736,  1.08902]), 1.0), (array([ 2.0167 , -0.08466, -1.17131, -2.1148 , -3.67619]), 0.0), (array([-1.60808, -0.48079, -2.30638, -2.16244, -2.22654]), 0.0), (array([-4.16105,  0.24658, -0.99342, -1.30441, -1.97502]), 0.0), (array([4.9627 , 1.7063 , 3.44704, 1.86132, 0.31571]), 1.0), (array([ 0.96259, -3.11404, -2.32312, -2.23951, -1.98182]), 0.0), (array([1.51401, 2.61851, 1.28245, 2.39278, 1.11636]), 1.0), (array([ 2.0503 ,  0.3998 , -0.76939, -3.66847, -2.20466]), 0.0), (array([ 3.69222,  1.28289,  1.89863, -0.01715,  3.13816]), 1.0), (array([-0.52148, -0.03246,  1.84436,  4.5381 ,  2.90643]), 1.0), (array([-1.00043, -1.71401, -0.54617, -0.65647, -5.1256 ]), 0.0), (array([-1.08949, -0.83855, -2.2496 ,  1.67068, -1.44003]), 0.0), (array([ 0.28137,  0.12931,  1.70767, -1.7807 ,  0.20316]), 0.0), (array([-2.34659, -0.56554,  0.89551, -2.34055, -1.62079]), 0.0), (array([-0.79244,  0.06009, -0.75565,  0.47274, -2.08484]), 0.0), (array([ 0.75448,  3.94446,  1.84082, -2.96891,  2.25554]), 1.0), (array([ 0.84342,  0.21795, -1.2009 ,  3.32921, -1.03413]), 0.0), (array([-1.18008,  0.58536, -1.37996, -0.58233,  2.73637]), 0.0), (array([-1.45848, -2.39318, -0.20343,  2.72503, -0.13273]), 0.0), (array([-2.0756 , -2.23956, -2.12421, -5.60474, -5.13584]), 0.0), (array([ 0.89374, -2.04241,  1.95085,  1.19681,  0.0763 ]), 1.0), (array([ 0.54479, -2.44025, -3.0379 , -0.2376 , -1.29672]), 0.0), (array([ 0.06007,  0.13185, -3.13674, -4.72537,  0.84852]), 0.0), (array([-0.73313, -1.04446, -0.24846,  0.6996 ,  2.58873]), 0.0), (array([ 2.33319,  0.62285,  1.22626, -0.27995,  4.41474]), 1.0), (array([3.34002, 1.65513, 2.21018, 0.25422, 0.05156]), 1.0), (array([ 0.27534,  1.81445, -1.53222, -0.95564, -0.60769]), 1.0), (array([-0.99058, -2.12972, -2.27937, -2.77721, -3.17761]), 0.0), (array([-1.78349, -1.36558, -1.6975 , -1.66225, -3.28641]), 0.0), (array([-2.56059, -1.7689 ,  0.48195, -1.44484,  2.30489]), 0.0), (array([1.73573, 0.61544, 2.51279, 0.49494, 6.12723]), 1.0), (array([-0.05925,  1.30181, -0.27883, -1.64077, -0.43786]), 0.0), (array([-2.67429,  1.98408, -2.56812, -3.05588, -4.28742]), 0.0), (array([-1.67737, -0.81556,  2.76406,  1.09575,  1.4663 ]), 1.0), (array([ 0.81668,  2.05787,  0.29394,  0.63666, -1.01054]), 1.0), (array([-0.54985, -0.00326,  1.06187,  0.60398, -0.66456]), 1.0), (array([ 0.38834, -2.26582,  1.71899, -1.59334, -0.60162]), 0.0), (array([-0.24745, -0.69415, -3.3884 ,  0.03812, -0.86397]), 0.0), (array([1.96247, 0.15456, 0.81705, 3.19008, 2.29075]), 1.0), (array([-1.96693,  2.38975,  2.00434, -0.8307 ,  3.61226]), 1.0), (array([1.41621, 2.17488, 0.78196, 2.86486, 2.48177]), 1.0), (array([ 1.69946,  3.02636,  3.42126, -0.09219,  0.85378]), 1.0), (array([ 1.1411 ,  1.30516, -1.32992,  4.27761,  3.23661]), 1.0), (array([-3.46187,  1.92265, -0.53585, -0.07698,  0.16612]), 0.0), (array([ 0.45914,  0.48473, -1.10054,  1.57393, -0.80831]), 1.0), (array([ 3.24636,  0.92644,  2.76988, -0.40345, -0.18311]), 1.0), (array([ 0.4525 , -2.10197, -2.30054, -2.54959, -1.3011 ]), 0.0), (array([ 3.44705,  0.63929,  2.31255, -1.36355,  0.91392]), 1.0), (array([-0.54925,  1.85982,  1.12435,  0.60968,  1.28678]), 1.0), (array([-1.33095, -0.72672, -1.55185,  0.32114,  4.07758]), 0.0), (array([-2.37422, -2.13659, -2.60993, -1.82118, -1.35817]), 0.0), (array([-1.11961, -0.46521,  2.19323, -2.5443 ,  0.78054]), 1.0), (array([-0.61591,  1.44321,  0.90751, -2.68684, -0.40786]), 0.0), (array([1.7041 , 0.78195, 1.55887, 1.74297, 2.68953]), 1.0), (array([-2.59617, -3.18321, -2.42288,  3.2848 , -0.68851]), 0.0), (array([2.34658, 1.10506, 1.67627, 1.94975, 2.26151]), 1.0), (array([-0.55001, -1.02362, -3.58192,  1.81144, -1.35918]), 0.0), (array([-4.19615, -4.7779 ,  0.12998, -4.17181,  1.55315]), 0.0), (array([ 0.46162, -0.48074, -1.22589, -0.02304,  0.07799]), 0.0), (array([ 4.04159,  2.08577,  2.14651,  1.16565, -0.65457]), 1.0), (array([ 2.72388,  0.04022, -1.61501,  1.75687,  4.51579]), 1.0), (array([-1.61577,  0.12998,  0.25667, -0.57696, -5.59985]), 0.0), (array([0.02611, 2.38771, 0.32688, 3.37874, 0.87705]), 1.0), (array([-0.94735, -2.34233, -2.19489,  0.17362, -0.04997]), 0.0)]\n"
        },
        {
          "output_type": "execute_result",
          "execution_count": 195,
          "data": {
            "text/plain": "200"
          },
          "metadata": {}
        }
      ],
      "execution_count": 195,
      "metadata": {
        "id": "TQptpK8iO3B4",
        "colab": {
          "base_uri": "https://localhost:8080/"
        },
        "executionInfo": {
          "status": "ok",
          "timestamp": 1709083957024,
          "user_tz": -330,
          "elapsed": 425,
          "user": {
            "displayName": "kush shrivastava",
            "userId": "06343033913709852627"
          }
        },
        "outputId": "1258a839-4429-4575-a9e9-5d649224cce6"
      }
    },
    {
      "cell_type": "code",
      "source": [
        "print(len(q1_test_data))"
      ],
      "outputs": [
        {
          "output_type": "stream",
          "name": "stdout",
          "text": "200\n"
        }
      ],
      "execution_count": 81,
      "metadata": {
        "colab": {
          "base_uri": "https://localhost:8080/"
        },
        "id": "pw15NBU7gf0N",
        "executionInfo": {
          "status": "ok",
          "timestamp": 1709070056614,
          "user_tz": -330,
          "elapsed": 413,
          "user": {
            "displayName": "kush shrivastava",
            "userId": "06343033913709852627"
          }
        },
        "outputId": "eabb493b-b9aa-4780-e650-ea5e9cca017d"
      }
    },
    {
      "cell_type": "code",
      "source": [
        "import numpy as np\n",
        "\n",
        "# Define the function to calculate mean and covariance matrix\n",
        "def calculate_mean_and_covariance(samples):\n",
        "    class_means = np.mean(samples, axis=0)\n",
        "    covariance_matrix = np.cov(samples, rowvar=False)\n",
        "\n",
        "    # Convert covariance matrix to diagonal matrix\n",
        "    diagonal_covariance = np.diag(np.diag(covariance_matrix))\n",
        "\n",
        "    return class_means, diagonal_covariance\n",
        "\n",
        "# Initialize lists to store samples for each class\n",
        "samples_0 = []\n",
        "samples_1 = []\n",
        "\n",
        "num_samples_values = [2, 10, 20, 50, 100, 500, 1000]\n",
        "srn_value = 22235\n",
        "\n",
        "for num_samples in num_samples_values:\n",
        "    # Get the training set for the current num_samples\n",
        "    train_set = AIML_A1.q1_get_train_set(srn_value, num_samples)\n",
        "\n",
        "    # Extract samples and labels from train_set\n",
        "    for sample, label in train_set:\n",
        "        if label == 0:\n",
        "            samples_0.append(sample)\n",
        "        elif label == 1:\n",
        "            samples_1.append(sample)\n",
        "\n",
        "    # Convert lists to numpy arrays\n",
        "    samples_array_0 = np.array(samples_0)\n",
        "    samples_array_1 = np.array(samples_1)\n",
        "\n",
        "    # Calculate mean and covariance matrix for each class\n",
        "    class_means_0, covariance_matrix_0 = calculate_mean_and_covariance(samples_array_0)\n",
        "    class_means_1, covariance_matrix_1 = calculate_mean_and_covariance(samples_array_1)\n",
        "\n",
        "\n",
        "    # Print results\n",
        "    print(f\"For {num_samples} samples:\")\n",
        "    print(\"Class 0 Mean:\", class_means_0)\n",
        "    print(\"Class 0 Covariance Matrix:\")\n",
        "    print(covariance_matrix_0)\n",
        "    print()\n",
        "    print(\"Class 1 Mean:\", class_means_1)\n",
        "    print(\"Class 1 Covariance Matrix:\")\n",
        "    print(covariance_matrix_1)\n",
        "    print()\n",
        "    print() #just to give space between two different number of samples\n",
        "    print()\n"
      ],
      "outputs": [
        {
          "output_type": "stream",
          "name": "stdout",
          "text": "For 2 samples:\nClass 0 Mean: [-1.14479  -1.99227  -0.877605 -1.083265 -2.46712 ]\nClass 0 Covariance Matrix:\n[[2.96912180e-03 0.00000000e+00 0.00000000e+00 0.00000000e+00\n  0.00000000e+00]\n [0.00000000e+00 8.40614804e+00 0.00000000e+00 0.00000000e+00\n  0.00000000e+00]\n [0.00000000e+00 0.00000000e+00 1.37267537e+00 0.00000000e+00\n  0.00000000e+00]\n [0.00000000e+00 0.00000000e+00 0.00000000e+00 1.56884011e-01\n  0.00000000e+00]\n [0.00000000e+00 0.00000000e+00 0.00000000e+00 0.00000000e+00\n  5.90610593e-01]]\n\nClass 1 Mean: [-0.151365  0.877535 -0.429675  0.964285  1.937245]\nClass 1 Covariance Matrix:\n[[4.95311045e-03 0.00000000e+00 0.00000000e+00 0.00000000e+00\n  0.00000000e+00]\n [0.00000000e+00 2.24826012e-02 0.00000000e+00 0.00000000e+00\n  0.00000000e+00]\n [0.00000000e+00 0.00000000e+00 1.38228564e-02 0.00000000e+00\n  0.00000000e+00]\n [0.00000000e+00 0.00000000e+00 0.00000000e+00 3.76018691e+00\n  0.00000000e+00]\n [0.00000000e+00 0.00000000e+00 0.00000000e+00 0.00000000e+00\n  7.81480438e+00]]\n\n\n\nFor 10 samples:\nClass 0 Mean: [-1.28809917 -1.04324333 -0.4994225  -0.98741583 -0.34477583]\nClass 0 Covariance Matrix:\n[[0.96152185 0.         0.         0.         0.        ]\n [0.         3.02206183 0.         0.         0.        ]\n [0.         0.         4.1461748  0.         0.        ]\n [0.         0.         0.         1.79324502 0.        ]\n [0.         0.         0.         0.         5.34836002]]\n\nClass 1 Mean: [1.5466625  0.57448083 0.5426725  1.247495   1.50729667]\nClass 1 Covariance Matrix:\n[[2.76932331 0.         0.         0.         0.        ]\n [0.         1.5648745  0.         0.         0.        ]\n [0.         0.         3.09023413 0.         0.        ]\n [0.         0.         0.         1.0234835  0.        ]\n [0.         0.         0.         0.         6.79049305]]\n\n\n\nFor 20 samples:\nClass 0 Mean: [-1.22665562 -1.13424375 -0.95430938 -0.93542594 -0.70939094]\nClass 0 Covariance Matrix:\n[[1.22545418 0.         0.         0.         0.        ]\n [0.         2.52422032 0.         0.         0.        ]\n [0.         0.         2.59160887 0.         0.        ]\n [0.         0.         0.         2.23580914 0.        ]\n [0.         0.         0.         0.         3.79642161]]\n\nClass 1 Mean: [1.38296938 0.73431531 0.92642594 1.19777656 1.65929875]\nClass 1 Covariance Matrix:\n[[2.33147076 0.         0.         0.         0.        ]\n [0.         1.91455818 0.         0.         0.        ]\n [0.         0.         3.74006288 0.         0.        ]\n [0.         0.         0.         1.24287538 0.        ]\n [0.         0.         0.         0.         6.16691229]]\n\n\n\nFor 50 samples:\nClass 0 Mean: [-1.04311439 -1.00680598 -0.83114293 -0.87435768 -0.92853329]\nClass 0 Covariance Matrix:\n[[2.46054533 0.         0.         0.         0.        ]\n [0.         2.1551572  0.         0.         0.        ]\n [0.         0.         2.27656248 0.         0.        ]\n [0.         0.         0.         2.50437093 0.        ]\n [0.         0.         0.         0.         4.17718552]]\n\nClass 1 Mean: [1.08938707 0.77834756 0.94893768 1.17204854 1.29407963]\nClass 1 Covariance Matrix:\n[[2.22608175 0.         0.         0.         0.        ]\n [0.         2.2317375  0.         0.         0.        ]\n [0.         0.         3.14358394 0.         0.        ]\n [0.         0.         0.         1.96452843 0.        ]\n [0.         0.         0.         0.         5.65558063]]\n\n\n\nFor 100 samples:\nClass 0 Mean: [-0.99476846 -0.96928066 -1.05481621 -0.94446868 -1.08280835]\nClass 0 Covariance Matrix:\n[[2.19778867 0.         0.         0.         0.        ]\n [0.         2.20489789 0.         0.         0.        ]\n [0.         0.         2.25184337 0.         0.        ]\n [0.         0.         0.         3.36463841 0.        ]\n [0.         0.         0.         0.         4.5246874 ]]\n\nClass 1 Mean: [1.03363769 0.86751989 1.03496885 1.16551324 1.13017736]\nClass 1 Covariance Matrix:\n[[2.45626728 0.         0.         0.         0.        ]\n [0.         2.21291918 0.         0.         0.        ]\n [0.         0.         2.7606818  0.         0.        ]\n [0.         0.         0.         2.28202453 0.        ]\n [0.         0.         0.         0.         5.19667639]]\n\n\n\nFor 500 samples:\nClass 0 Mean: [-0.99137334 -1.01002867 -1.0135317  -0.95962183 -0.98810268]\nClass 0 Covariance Matrix:\n[[2.41358857 0.         0.         0.         0.        ]\n [0.         2.17629641 0.         0.         0.        ]\n [0.         0.         2.44973644 0.         0.        ]\n [0.         0.         0.         3.95741295 0.        ]\n [0.         0.         0.         0.         5.2336306 ]]\n\nClass 1 Mean: [0.94343405 0.9603001  0.97646207 1.01706796 0.9647982 ]\nClass 1 Covariance Matrix:\n[[2.42456845 0.         0.         0.         0.        ]\n [0.         2.42134545 0.         0.         0.        ]\n [0.         0.         2.42540283 0.         0.        ]\n [0.         0.         0.         3.29783405 0.        ]\n [0.         0.         0.         0.         5.23720202]]\n\n\n\nFor 1000 samples:\nClass 0 Mean: [-0.96692373 -0.94917209 -1.01474212 -0.9756399  -1.02319919]\nClass 0 Covariance Matrix:\n[[2.42104548 0.         0.         0.         0.        ]\n [0.         2.26265116 0.         0.         0.        ]\n [0.         0.         2.50647719 0.         0.        ]\n [0.         0.         0.         3.92028292 0.        ]\n [0.         0.         0.         0.         5.30605245]]\n\nClass 1 Mean: [0.95342046 0.97475045 0.97757304 1.00629518 0.97115193]\nClass 1 Covariance Matrix:\n[[2.44145557 0.         0.         0.         0.        ]\n [0.         2.36649939 0.         0.         0.        ]\n [0.         0.         2.41741063 0.         0.        ]\n [0.         0.         0.         3.66478154 0.        ]\n [0.         0.         0.         0.         5.31449108]]\n\n\n\n"
        }
      ],
      "execution_count": 174,
      "metadata": {
        "id": "8U8Xl6imQPP1",
        "colab": {
          "base_uri": "https://localhost:8080/"
        },
        "executionInfo": {
          "status": "ok",
          "timestamp": 1709080619638,
          "user_tz": -330,
          "elapsed": 613,
          "user": {
            "displayName": "kush shrivastava",
            "userId": "06343033913709852627"
          }
        },
        "outputId": "7c61b750-77dc-4a76-f428-ceb88767f4f6"
      }
    },
    {
      "cell_type": "code",
      "source": [
        "##To find the misclassification losses:\n",
        "import numpy as np\n",
        "def calculate_mean_and_covariance(samples):\n",
        "  class_means = np.mean(samples, axis=0)\n",
        "\n",
        "  # Calculate covariance matrix using numpy.cov\n",
        "  covariance_matrix = np.cov(samples, rowvar=False)\n",
        "\n",
        "  return class_means, covariance_matrix\n",
        "\n",
        "\n",
        "def bayes_classifier(x, class_means_0, class_means_1, covariance_matrix_0, covariance_matrix_1):\n",
        "  # Calculate discriminant functions\n",
        "    inverse_covariance_matrix_0 = np.diag(1 / np.diag(covariance_matrix_0))\n",
        "    inverse_covariance_matrix_1 = np.diag(1 / np.diag(covariance_matrix_1))\n",
        "    discriminant_0 = np.dot(np.dot((x - class_means_0).T, inverse_covariance_matrix_0), (x - class_means_0))\n",
        "    discriminant_1 = np.dot(np.dot((x - class_means_1).T, inverse_covariance_matrix_1), (x - class_means_1))\n",
        "\n",
        "  # Calculate Bayes classifier\n",
        "    f_x = np.log(5) - 0.5 * discriminant_1 - 0.5 * np.log(np.linalg.det(covariance_matrix_1)) \\\n",
        "     + 0.5 * discriminant_0 + 0.5 * np.log(np.linalg.det(covariance_matrix_0))\n",
        "\n",
        "  # Return class prediction\n",
        "    return 1 if f_x > 0 else 0\n",
        "\n",
        "\n",
        "\n",
        "test_set = AIML_A1.q1_get_test_set(22235)\n",
        "samples_0 = []\n",
        "samples_1 = []\n",
        "\n",
        "num_samples_values = [2, 10, 20, 50, 100, 500, 1000]\n",
        "srn_value = 22235\n",
        "\n",
        "train_set = AIML_A1.q1_get_train_set(srn_value, 1000)\n",
        "\n",
        "# Extract samples and labels from train_set\n",
        "for sample, label in train_set:\n",
        "    if label == 0:\n",
        "        samples_0.append(sample)\n",
        "    elif label == 1:\n",
        "        samples_1.append(sample)\n",
        "\n",
        "    # Convert lists to numpy arrays\n",
        "samples_array_0 = np.array(samples_0)\n",
        "samples_array_1 = np.array(samples_1)\n",
        "\n",
        "    # Calculate mean and covariance matrix for each class\n",
        "class_means_0, covariance_matrix_0 = calculate_mean_and_covariance(samples_array_0)\n",
        "class_means_1, covariance_matrix_1 = calculate_mean_and_covariance(samples_array_1)\n",
        "\n",
        "predictions = []\n",
        "for sample, actual_class in test_set:\n",
        "  prediction = bayes_classifier(sample, class_means_0, class_means_1, covariance_matrix_0, covariance_matrix_1)\n",
        "  predictions.append(prediction)\n",
        "calculate_loss(predictions,test_set)\n",
        "\n",
        "\n",
        "def calculate_loss(predictions, test_set):\n",
        "  misclassification_loss = 0\n",
        "  number = 0\n",
        "  for i in range(len(predictions)):\n",
        "    x, actual_class = test_set[i]\n",
        "    predicted_class = predictions[i]\n",
        "\n",
        "    if actual_class == 1 and predicted_class == 0:\n",
        "      loss = 5\n",
        "      number +=1\n",
        "      misclassification_loss += loss\n",
        "    elif actual_class == 0 and predicted_class == 1:\n",
        "      loss = 1\n",
        "      number+=1\n",
        "      misclassification_loss += loss\n",
        "    else:\n",
        "      loss = 0\n",
        "      misclassification_loss += loss\n",
        "      loss+=0\n",
        "\n",
        "\n",
        "  print(misclassification_loss)\n",
        "  print(number)\n",
        "  return misclassification_loss"
      ],
      "outputs": [
        {
          "output_type": "stream",
          "name": "stdout",
          "text": "46\n30\n"
        }
      ],
      "execution_count": 203,
      "metadata": {
        "colab": {
          "base_uri": "https://localhost:8080/"
        },
        "executionInfo": {
          "elapsed": 414,
          "status": "ok",
          "timestamp": 1709084222931,
          "user": {
            "displayName": "kush shrivastava",
            "userId": "06343033913709852627"
          },
          "user_tz": -330
        },
        "id": "kHAoPeKHC1y5",
        "outputId": "37ce4d92-3b24-443d-c2b7-2812b522afbb"
      }
    },
    {
      "cell_type": "markdown",
      "source": [
        "## CIFAR10 classification"
      ],
      "metadata": {
        "id": "eJplWm2zIbtv"
      }
    },
    {
      "cell_type": "code",
      "source": [
        "from PIL import Image\n",
        "import matplotlib.pyplot as plt\n",
        "import numpy as np\n",
        "\n",
        "help(AIML_A1.q1_get_cifar10_train_test)\n",
        "cifar10_train, cifar10_test = AIML_A1.q1_get_cifar10_train_test(22235)\n",
        "\n",
        "# plot an example images\n",
        "plt.imshow(Image.fromarray(cifar10_train[0][0].reshape(32,32,3).astype(np.uint8)))\n",
        "plt.show()\n",
        "\n",
        "import numpy as np\n",
        "\n",
        "def calculate_mean_and_covariance(samples):\n",
        "    class_means = np.mean(samples, axis=0)\n",
        "    covariance_matrix = np.cov(samples, rowvar=False)\n",
        "    return class_means, covariance_matrix\n",
        "\n",
        "def bayes_classifier(x, class_means_0, class_means_1, covariance_matrix_0_inv, covariance_matrix_1_inv, covariance_matrix_0_det, covariance_matrix_1_det):\n",
        "    discriminant_0 = np.dot(np.dot((x - class_means_0).T, covariance_matrix_0_inv), (x - class_means_0))\n",
        "    discriminant_1 = np.dot(np.dot((x - class_means_1).T, covariance_matrix_1_inv), (x - class_means_1))\n",
        "    f_x = np.log(5) - 0.5 * discriminant_1 - 0.5 * np.log(covariance_matrix_1_det) \\\n",
        "          + 0.5 * discriminant_0 + 0.5 * np.log(covariance_matrix_0_det)\n",
        "    return 1 if f_x > 0 else 0\n",
        "\n",
        "def calculate_loss(predictions, test_set):\n",
        "    misclassification_loss = 0\n",
        "    number_of_errors = 0\n",
        "    for prediction, (x, actual_class) in zip(predictions, test_set):\n",
        "        if actual_class == 1 and prediction == 0:\n",
        "            misclassification_loss += 5\n",
        "            number_of_errors += 1\n",
        "        elif actual_class == 0 and prediction == 1:\n",
        "            misclassification_loss += 1\n",
        "            number_of_errors += 1\n",
        "    return misclassification_loss, number_of_errors\n",
        "\n",
        "def q1_get_cifar10_train_test(srn):\n",
        "    # Function to obtain CIFAR10 dataset\n",
        "    pass\n",
        "\n",
        "# Assuming you have the q1_get_cifar10_train_test function to obtain CIFAR10 dataset\n",
        "train_set, test_set =  AIML_A1.q1_get_cifar10_train_test(22235)\n",
        "print(len(test_set))\n",
        "samples_0 = []\n",
        "samples_1 = []\n",
        "\n",
        "# Extract samples and labels from train_set\n",
        "for sample, label in train_set:\n",
        "    if label == 0:\n",
        "        samples_0.append(sample)\n",
        "    elif label == 1:\n",
        "        samples_1.append(sample)\n",
        "\n",
        "# Convert lists to numpy arrays\n",
        "samples_array_0 = np.array(samples_0)\n",
        "samples_array_1 = np.array(samples_1)\n",
        "\n",
        "# Calculate mean and covariance matrix for each class\n",
        "class_means_0, covariance_matrix_0 = calculate_mean_and_covariance(samples_array_0)\n",
        "class_means_1, covariance_matrix_1 = calculate_mean_and_covariance(samples_array_1)\n",
        "\n",
        "covariance_matrix_0_det = np.linalg.det(covariance_matrix_0)\n",
        "covariance_matrix_1_det = np.linalg.det(covariance_matrix_1)\n",
        "covariance_matrix_0_inv =  np.diag(1 / np.diag(covariance_matrix_0))\n",
        "covariance_matrix_1_inv = np.diag(1 / np.diag(covariance_matrix_1))\n",
        "\n",
        "\n",
        "\n",
        "# Use Bayes classifier to predict on test set\n",
        "predictions = [bayes_classifier(x, class_means_0, class_means_1, covariance_matrix_0_inv, covariance_matrix_1_inv, covariance_matrix_0_det, covariance_matrix_1_det) for x, _ in test_set]\n",
        "\n",
        "# Calculate misclassification loss and number of errors\n",
        "misclassification_loss, number_of_errors = calculate_loss(predictions, test_set)\n",
        "\n",
        "# Calculate test accuracy\n",
        "test_accuracy = 1 - number_of_errors / len(test_set)\n",
        "\n",
        "print(\"Misclassification Loss:\", misclassification_loss)\n",
        "print(\"Test Accuracy:\", test_accuracy)\n"
      ],
      "outputs": [
        {
          "output_type": "stream",
          "name": "stdout",
          "text": "Help on function q1_get_cifar10_train_test in module oracle:\n\nq1_get_cifar10_train_test(srn: int) -> tuple[list[tuple[numpy.ndarray, int]], list[tuple[numpy.ndarray, int]]]\n    srn: 5 digit number.\n    \n    This function returns 2000 training samples each from 2 classes of the CIFAR10 dataset and a test set\n    \n    Returns a list whose elements are 2-tuples.\n    The first element of the tuple is x and the second is the label, (1 or 0)\n\nFiles already downloaded and verified\nFiles already downloaded and verified\n"
        },
        {
          "output_type": "display_data",
          "data": {
            "text/plain": "<Figure size 640x480 with 1 Axes>",
            "image/png": "[encoded data removed]"
          },
          "metadata": {}
        },
        {
          "output_type": "stream",
          "name": "stdout",
          "text": "Files already downloaded and verified\nFiles already downloaded and verified\n4000\n"
        },
        {
          "output_type": "stream",
          "name": "stderr",
          "text": "<ipython-input-180-e705c591ae4d>:22: RuntimeWarning: divide by zero encountered in log\n  f_x = np.log(5) - 0.5 * discriminant_1 - 0.5 * np.log(covariance_matrix_1_det) \\\n<ipython-input-180-e705c591ae4d>:23: RuntimeWarning: divide by zero encountered in log\n  + 0.5 * discriminant_0 + 0.5 * np.log(covariance_matrix_0_det)\n<ipython-input-180-e705c591ae4d>:22: RuntimeWarning: invalid value encountered in scalar add\n  f_x = np.log(5) - 0.5 * discriminant_1 - 0.5 * np.log(covariance_matrix_1_det) \\\n"
        },
        {
          "output_type": "stream",
          "name": "stdout",
          "text": "Misclassification Loss: 10000\nTest Accuracy: 0.5\n"
        }
      ],
      "execution_count": 180,
      "metadata": {
        "colab": {
          "base_uri": "https://localhost:8080/",
          "height": 849
        },
        "id": "30rb3b55MiPI",
        "outputId": "6627f16b-5c15-4617-b1be-d521a3697d5c",
        "executionInfo": {
          "status": "ok",
          "timestamp": 1709081113509,
          "user_tz": -330,
          "elapsed": 52360,
          "user": {
            "displayName": "kush shrivastava",
            "userId": "06343033913709852627"
          }
        }
      }
    },
    {
      "cell_type": "code",
      "source": [
        "# To save all the images, run the following code block\n",
        "!mkdir class0 class1\n",
        "for i,(x,y) in enumerate(cifar10_train):\n",
        "  plt.imshow(Image.fromarray(x.reshape(32,32,3).astype(np.uint8)))\n",
        "  plt.savefig(f\"class{int(y)}/{i}.jpg\")"
      ],
      "outputs": [],
      "execution_count": null,
      "metadata": {
        "id": "QTpIiF-WXs9N",
        "executionInfo": {
          "status": "aborted",
          "timestamp": 1709069304070,
          "user_tz": -330,
          "elapsed": 8,
          "user": {
            "displayName": "kush shrivastava",
            "userId": "06343033913709852627"
          }
        }
      }
    },
    {
      "cell_type": "markdown",
      "source": [
        "# Question 2"
      ],
      "metadata": {
        "id": "V06P9hRLQXqA"
      }
    },
    {
      "cell_type": "code",
      "source": [
        "help(AIML_A1.q2_perceive)\n",
        "perceptron_data = AIML_A1.q2_perceive(mysrn)\n",
        "print(perceptron_data[:3])"
      ],
      "outputs": [
        {
          "output_type": "stream",
          "name": "stdout",
          "text": "Help on function q2_perceive in module oracle:\n\nq2_perceive(srn) -> list[tuple[numpy.ndarray, int]]\n    srn: 5 digit number.\n    \n    This function returns the dataset for question 2\n    \n    Returns a list whose elements are 2-tuples.\n    The first element of the tuple is x and the second is the label, (1 or -1)\n\n[(array([-0.4522 ,  0.66856, -0.97328, -0.147  , -0.70872]), -1.0), (array([ 1.26766, -0.70432, -0.86631, -0.01057, -0.77276]), -1.0), (array([-0.40183,  0.09853,  0.61173, -1.95735, -0.06836]), -1.0)]\n"
        }
      ],
      "execution_count": null,
      "metadata": {
        "colab": {
          "base_uri": "https://localhost:8080/"
        },
        "executionInfo": {
          "elapsed": 466,
          "status": "ok",
          "timestamp": 1708869754226,
          "user": {
            "displayName": "kush shrivastava",
            "userId": "06343033913709852627"
          },
          "user_tz": -330
        },
        "id": "VEiuhufYyIaf",
        "outputId": "5ccba16a-e324-4808-8d42-ef1e03b56b3d"
      }
    },
    {
      "cell_type": "code",
      "source": [
        "import numpy as np\n",
        "\n",
        "def perceptron_learning(dataset):\n",
        "    # Initialize weight vector w with zeros\n",
        "    w = np.zeros(dataset[0][0].shape)\n",
        "\n",
        "    # Initialize error counter\n",
        "    num_errors = 0\n",
        "\n",
        "    # Perceptron learning algorithm\n",
        "    while True:\n",
        "        all_classified = True  # Flag to check if all examples are classified correctly\n",
        "        for x, label in dataset:\n",
        "            # Check if the current example is misclassified\n",
        "            if label * np.dot(w.transpose(), x) <= 0:\n",
        "                # Update weight vector\n",
        "                w += label * x\n",
        "                # Increment error counter\n",
        "                num_errors += 1\n",
        "                all_classified = False  # Set flag to False if any example is misclassified\n",
        "        if all_classified:\n",
        "            break  # Break out of the loop if all examples are correctly classified\n",
        "\n",
        "    # Calculate margin using the final weight vector\n",
        "    # Margin is the minimum distance from the separating hyperplane to any data point\n",
        "\n",
        "    margin = float('inf')\n",
        "\n",
        "    # Find the minimum value of w^T * x / ||w|| after finding w\n",
        "    for x, label in dataset:\n",
        "        value = (label*(np.dot(w.transpose(), x))) / np.linalg.norm(w)\n",
        "        if value < margin:\n",
        "            margin = value\n",
        "\n",
        "    return w, num_errors, margin\n",
        "\n",
        "\n",
        "def calculate_radius(dataset):\n",
        "    max_distance = 0\n",
        "\n",
        "    # Calculate maximum Euclidean distance from the origin\n",
        "    for x, _ in dataset:\n",
        "        distance = np.linalg.norm(x)\n",
        "        max_distance = max(max_distance, distance)\n",
        "\n",
        "    return max_distance\n",
        "\n",
        "perceptron_data = AIML_A1.q2_perceive(22235)\n",
        "\n",
        "# Call perceptron_learning function and print its results\n",
        "w, num_errors, margin = perceptron_learning(perceptron_data)\n",
        "print(\"Perceptron Learning:\")\n",
        "print(\"Weight vector (w):\", w)\n",
        "print(\"Number of errors:\", num_errors)\n",
        "print(\"Margin:\", margin)\n",
        "\n",
        "\n",
        "# Call calculate_radius function and print its result\n",
        "radius = calculate_radius(perceptron_data)\n",
        "print(\"\\nRadius of the dataset:\", radius)\n"
      ],
      "outputs": [
        {
          "output_type": "stream",
          "name": "stdout",
          "text": "Perceptron Learning:\nWeight vector (w): [32.89384 32.7266  32.51577 24.58485 15.88242]\nNumber of errors: 1926\nMargin: 0.0006139827770785612\n\nRadius of the dataset: 4.429983960817466\n"
        }
      ],
      "execution_count": 204,
      "metadata": {
        "colab": {
          "base_uri": "https://localhost:8080/"
        },
        "executionInfo": {
          "elapsed": 430,
          "status": "ok",
          "timestamp": 1709085234465,
          "user": {
            "displayName": "kush shrivastava",
            "userId": "06343033913709852627"
          },
          "user_tz": -330
        },
        "id": "pYuD8yOJLH-N",
        "outputId": "9de17fb1-92e0-4756-c1c1-050864047347"
      }
    },
    {
      "cell_type": "markdown",
      "source": [
        "Perceiving MNIST"
      ],
      "metadata": {
        "id": "-YYUBD86hoQZ"
      }
    },
    {
      "cell_type": "code",
      "source": [
        "help(AIML_A1.q2_mnist)\n",
        "mnist_data = AIML_A1.q2_mnist(mysrn)\n",
        "print(perceptron_data[:5])"
      ],
      "outputs": [
        {
          "output_type": "stream",
          "name": "stdout",
          "text": "Help on function q2_mnist in module oracle:\n\nq2_mnist(srn) -> list[tuple[numpy.ndarray, int]]\n    srn: 5 digit number.\n    \n    Returns a 2-tuple.\n    The first element of the tuple is l(0,1) and the second is l(1,0)\n\nDownloading http://yann.lecun.com/exdb/mnist/train-images-idx3-ubyte.gz\nDownloading http://yann.lecun.com/exdb/mnist/train-images-idx3-ubyte.gz to mnist_data/MNIST/raw/train-images-idx3-ubyte.gz\n"
        },
        {
          "output_type": "stream",
          "name": "stderr",
          "text": "100%|██████████| 9912422/9912422 [00:00<00:00, 83381221.13it/s]\n"
        },
        {
          "output_type": "stream",
          "name": "stdout",
          "text": "Extracting mnist_data/MNIST/raw/train-images-idx3-ubyte.gz to mnist_data/MNIST/raw\n\nDownloading http://yann.lecun.com/exdb/mnist/train-labels-idx1-ubyte.gz\nDownloading http://yann.lecun.com/exdb/mnist/train-labels-idx1-ubyte.gz to mnist_data/MNIST/raw/train-labels-idx1-ubyte.gz\n"
        },
        {
          "output_type": "stream",
          "name": "stderr",
          "text": "100%|██████████| 28881/28881 [00:00<00:00, 99782284.86it/s]"
        },
        {
          "output_type": "stream",
          "name": "stdout",
          "text": "Extracting mnist_data/MNIST/raw/train-labels-idx1-ubyte.gz to mnist_data/MNIST/raw\n\nDownloading http://yann.lecun.com/exdb/mnist/t10k-images-idx3-ubyte.gz\nDownloading http://yann.lecun.com/exdb/mnist/t10k-images-idx3-ubyte.gz to mnist_data/MNIST/raw/t10k-images-idx3-ubyte.gz\n"
        },
        {
          "output_type": "stream",
          "name": "stderr",
          "text": "\n100%|██████████| 1648877/1648877 [00:00<00:00, 27711562.01it/s]\n"
        },
        {
          "output_type": "stream",
          "name": "stdout",
          "text": "Extracting mnist_data/MNIST/raw/t10k-images-idx3-ubyte.gz to mnist_data/MNIST/raw\n\nDownloading http://yann.lecun.com/exdb/mnist/t10k-labels-idx1-ubyte.gz\nDownloading http://yann.lecun.com/exdb/mnist/t10k-labels-idx1-ubyte.gz to mnist_data/MNIST/raw/t10k-labels-idx1-ubyte.gz\n"
        },
        {
          "output_type": "stream",
          "name": "stderr",
          "text": "100%|██████████| 4542/4542 [00:00<00:00, 3491665.83it/s]\n"
        },
        {
          "output_type": "stream",
          "name": "stdout",
          "text": "Extracting mnist_data/MNIST/raw/t10k-labels-idx1-ubyte.gz to mnist_data/MNIST/raw\n\n[(array([-0.09454,  0.85408,  2.3362 , -2.04044,  0.64286]), 1.0), (array([-1.54786,  1.78158,  2.33551,  0.39075,  1.28523]), 1.0), (array([-0.53543,  1.06855,  0.23407, -0.26984, -0.86166]), -1.0), (array([-1.36385, -0.58071, -0.42002, -0.65567, -0.86643]), -1.0), (array([-0.90195, -0.35671, -1.31649, -0.46279,  0.829  ]), -1.0)]\n"
        }
      ],
      "execution_count": null,
      "metadata": {
        "colab": {
          "base_uri": "https://localhost:8080/"
        },
        "executionInfo": {
          "elapsed": 2015,
          "status": "ok",
          "timestamp": 1707761721772,
          "user": {
            "displayName": "Dhruva Kashyap",
            "userId": "02225552102464917481"
          },
          "user_tz": -330
        },
        "id": "M2YCrJweht90",
        "outputId": "eebb024c-f503-4c6d-aa8c-a45d3e858043"
      }
    },
    {
      "cell_type": "code",
      "source": [
        "import numpy as np\n",
        "\n",
        "def perceptron_learning(dataset):\n",
        "    # Initialize weight vector w with zeros\n",
        "    w = np.zeros(dataset[0][0].shape)\n",
        "\n",
        "    # Initialize error counter\n",
        "    num_errors = 0\n",
        "\n",
        "    # Perceptron learning algorithm\n",
        "    while True:\n",
        "        all_classified = True  # Flag to check if all examples are classified correctly\n",
        "        for x, label in dataset:\n",
        "            # Check if the current example is misclassified\n",
        "            if label * np.dot(w.transpose(), x) <= 0:\n",
        "                # Update weight vector\n",
        "                w += label * x\n",
        "                # Increment error counter\n",
        "                num_errors += 1\n",
        "                all_classified = False  # Set flag to False if any example is misclassified\n",
        "        if all_classified:\n",
        "            break  # Break out of the loop if all examples are correctly classified\n",
        "\n",
        "    # Calculate margin using the final weight vector\n",
        "    # Margin is the minimum distance from the separating hyperplane to any data point\n",
        "\n",
        "    margin = float('inf')\n",
        "\n",
        "    # Find the minimum value of w^T * x / ||w|| after finding w\n",
        "    for x, label in dataset:\n",
        "        value = (label*(np.dot(w.transpose(), x))) / np.linalg.norm(w)\n",
        "        if value < margin:\n",
        "            margin = value\n",
        "\n",
        "    return w, num_errors, margin\n",
        "\n",
        "\n",
        "def calculate_radius(dataset):\n",
        "    max_distance = 0\n",
        "\n",
        "    # Calculate maximum Euclidean distance from the origin\n",
        "    for x, _ in dataset:\n",
        "        distance = np.linalg.norm(x)\n",
        "        max_distance = max(max_distance, distance)\n",
        "\n",
        "    return max_distance\n",
        "\n",
        "# Example usage with different datasets\n",
        "perceptron_data = AIML_A1.q2_mnist(22235)\n",
        "\n",
        "# Call perceptron_learning function and print its results\n",
        "w, num_errors, margin = perceptron_learning(perceptron_data)\n",
        "print(\"Perceptron Learning:\")\n",
        "print(\"Weight vector (w):\", w)\n",
        "print(\"Number of errors:\", num_errors)\n",
        "print(\"Margin:\", margin)\n",
        "\n",
        "# Call calculate_radius function and print its result\n",
        "radius = calculate_radius(perceptron_data)\n",
        "print(\"\\nRadius of the dataset:\", radius)\n",
        "\n",
        "# Save the weight vector w to a CSV file\n",
        "np.savetxt(\"AIML_2024_A1_22235_q2_w.csv\", w, delimiter=\",\")\n"
      ],
      "outputs": [
        {
          "output_type": "stream",
          "name": "stdout",
          "text": "Perceptron Learning:\nWeight vector (w): [ 0.000e+00  0.000e+00  0.000e+00  0.000e+00  0.000e+00  0.000e+00\n  0.000e+00  0.000e+00  0.000e+00  0.000e+00  0.000e+00  0.000e+00\n  0.000e+00  0.000e+00  0.000e+00  0.000e+00  0.000e+00  0.000e+00\n  0.000e+00  0.000e+00  0.000e+00  0.000e+00  0.000e+00  0.000e+00\n  0.000e+00  0.000e+00  0.000e+00  0.000e+00  0.000e+00  0.000e+00\n  0.000e+00  0.000e+00  0.000e+00  0.000e+00  0.000e+00  0.000e+00\n  0.000e+00  0.000e+00  0.000e+00  0.000e+00  0.000e+00  0.000e+00\n  0.000e+00  0.000e+00  0.000e+00  0.000e+00  0.000e+00  0.000e+00\n  0.000e+00  0.000e+00  0.000e+00  0.000e+00  0.000e+00  0.000e+00\n  0.000e+00  0.000e+00  0.000e+00  0.000e+00  0.000e+00  0.000e+00\n  0.000e+00  0.000e+00  0.000e+00  0.000e+00  0.000e+00  0.000e+00\n  0.000e+00  0.000e+00  0.000e+00  0.000e+00  0.000e+00  0.000e+00\n  0.000e+00  0.000e+00  0.000e+00  0.000e+00  0.000e+00  0.000e+00\n  0.000e+00  0.000e+00  0.000e+00  0.000e+00  0.000e+00  0.000e+00\n  0.000e+00  0.000e+00  0.000e+00  0.000e+00  0.000e+00  0.000e+00\n  0.000e+00  0.000e+00  0.000e+00  6.900e+01  1.640e+02  2.550e+02\n  2.540e+02  1.250e+02  0.000e+00  0.000e+00  8.800e+01  1.270e+02\n -1.600e+01 -2.550e+02 -1.290e+02  0.000e+00  0.000e+00  0.000e+00\n  0.000e+00  0.000e+00  0.000e+00  0.000e+00  0.000e+00  0.000e+00\n  0.000e+00  0.000e+00  0.000e+00  0.000e+00  0.000e+00  0.000e+00\n  0.000e+00  2.190e+02  2.320e+02  1.420e+02  3.800e+02  7.320e+02\n  8.680e+02  1.074e+03  8.530e+02  4.070e+02 -1.170e+02 -1.200e+02\n -1.170e+02  3.500e+01  1.050e+02  1.000e+00  0.000e+00  0.000e+00\n  0.000e+00  0.000e+00  0.000e+00  0.000e+00  0.000e+00 -1.300e+01\n -2.500e+01 -1.000e+01  0.000e+00  0.000e+00  1.100e+02  1.980e+02\n  3.100e+01  1.200e+01  3.040e+02  1.143e+03  9.090e+02  9.200e+02\n  1.182e+03  6.890e+02  5.200e+02  1.600e+02 -3.760e+02 -3.580e+02\n -3.510e+02 -4.420e+02 -6.170e+02 -3.480e+02  0.000e+00  0.000e+00\n  0.000e+00  0.000e+00  0.000e+00 -1.320e+02 -3.140e+02 -1.940e+02\n  0.000e+00  0.000e+00  1.940e+02  1.630e+02 -9.600e+01  1.490e+02\n  3.040e+02  6.390e+02  7.720e+02  8.890e+02  9.500e+02  1.029e+03\n  4.000e+02 -5.100e+01 -2.940e+02 -5.020e+02 -8.640e+02 -6.350e+02\n -9.240e+02 -2.020e+02  0.000e+00  0.000e+00  0.000e+00  0.000e+00\n  0.000e+00 -1.320e+02 -3.780e+02 -4.030e+02 -7.900e+01 -1.220e+02\n  2.100e+02 -1.850e+02 -8.500e+01  1.000e+00  9.000e+01  7.490e+02\n  1.397e+03  1.005e+03  9.150e+02  1.295e+03  2.370e+02  2.730e+02\n  2.060e+02 -2.030e+02 -6.770e+02 -1.340e+02 -5.970e+02 -8.600e+01\n  0.000e+00  0.000e+00  0.000e+00  0.000e+00  0.000e+00 -1.320e+02\n -4.720e+02 -4.150e+02 -2.380e+02 -2.260e+02  2.400e+02  7.900e+01\n -8.500e+01 -3.410e+02  2.970e+02  7.800e+02  1.710e+03  1.825e+03\n  1.060e+03  6.930e+02 -8.100e+01  2.160e+02  2.240e+02  5.400e+01\n  4.300e+01 -3.950e+02 -2.520e+02 -2.070e+02  0.000e+00  0.000e+00\n  0.000e+00  0.000e+00  0.000e+00 -9.900e+01 -4.740e+02 -4.150e+02\n  5.000e+01 -1.920e+02  2.120e+02  5.080e+02  7.720e+02  1.112e+03\n  7.850e+02  5.830e+02  1.937e+03  2.070e+03  9.610e+02  5.760e+02\n  1.100e+02  4.300e+02  3.570e+02  4.510e+02  2.630e+02 -4.400e+01\n -3.920e+02 -1.630e+02  0.000e+00  0.000e+00  0.000e+00  0.000e+00\n  0.000e+00 -4.900e+01 -3.700e+02 -4.150e+02  1.110e+02  1.590e+02\n  4.750e+02  2.760e+02  7.700e+02  7.730e+02 -1.500e+01  4.260e+02\n  2.221e+03  1.260e+03  3.110e+02  3.550e+02  6.060e+02  1.700e+02\n  2.060e+02  7.480e+02  8.890e+02  8.330e+02 -3.700e+01 -5.200e+01\n  0.000e+00  0.000e+00  0.000e+00  0.000e+00  0.000e+00 -1.200e+02\n -2.690e+02 -3.940e+02  2.700e+02  1.170e+02 -1.310e+02 -7.170e+02\n  1.090e+02  1.170e+02 -6.380e+02  8.530e+02  1.758e+03  6.810e+02\n -8.100e+01  3.140e+02  8.530e+02 -2.440e+02  1.840e+02  8.090e+02\n  9.200e+02  1.130e+03  8.420e+02  0.000e+00  0.000e+00  0.000e+00\n  0.000e+00  0.000e+00  0.000e+00 -1.590e+02 -2.630e+02 -2.800e+02\n  7.530e+02 -1.680e+02 -6.450e+02 -5.660e+02 -6.380e+02 -6.270e+02\n -6.900e+02  9.110e+02  5.260e+02 -1.750e+02 -4.510e+02  2.520e+02\n -2.750e+02 -5.900e+01  6.410e+02  8.190e+02  4.420e+02  9.460e+02\n  5.080e+02 -6.400e+01  0.000e+00  0.000e+00  0.000e+00  0.000e+00\n  4.900e+01 -1.590e+02 -3.390e+02  8.700e+01  8.530e+02 -7.690e+02\n -5.300e+02 -1.157e+03 -1.248e+03 -8.180e+02 -7.190e+02  4.900e+01\n -1.251e+03 -1.292e+03 -1.178e+03 -1.205e+03 -8.370e+02 -1.640e+02\n  5.290e+02  2.990e+02  6.920e+02  5.850e+02 -2.000e+00  9.400e+01\n  0.000e+00  0.000e+00  0.000e+00  0.000e+00  0.000e+00 -1.590e+02\n -2.830e+02  6.510e+02  7.930e+02 -9.350e+02 -1.253e+03 -1.513e+03\n -1.031e+03 -1.410e+03 -1.090e+03 -9.160e+02 -2.714e+03 -2.089e+03\n -2.203e+03 -2.240e+03 -6.440e+02 -2.270e+02  5.630e+02  6.610e+02\n  5.260e+02  2.130e+02  1.870e+02  3.800e+02  0.000e+00  0.000e+00\n  0.000e+00  0.000e+00  0.000e+00 -1.500e+02  1.990e+02  6.710e+02\n  1.480e+02 -1.215e+03 -1.186e+03 -1.005e+03 -1.327e+03 -1.342e+03\n -9.140e+02 -1.785e+03 -2.742e+03 -2.492e+03 -2.653e+03 -1.534e+03\n  8.000e+00  1.043e+03  7.910e+02  4.560e+02  7.600e+01  7.600e+01\n  2.410e+02  2.840e+02  0.000e+00  0.000e+00  0.000e+00  0.000e+00\n  0.000e+00  0.000e+00  3.890e+02  5.810e+02  3.270e+02  3.160e+02\n -3.250e+02 -8.670e+02 -8.300e+02 -6.770e+02 -6.650e+02 -1.886e+03\n -2.041e+03 -1.449e+03 -1.227e+03 -1.152e+03 -9.800e+02  9.170e+02\n  7.300e+02  1.570e+02 -2.900e+01  1.190e+02  7.800e+01  5.000e+01\n  0.000e+00  0.000e+00  0.000e+00  0.000e+00  0.000e+00  0.000e+00\n  5.920e+02  7.520e+02  8.850e+02  1.255e+03  5.030e+02  1.840e+02\n -3.770e+02 -1.178e+03 -7.600e+02 -2.006e+03 -9.480e+02 -4.870e+02\n -1.167e+03 -4.830e+02 -5.580e+02  6.970e+02  8.990e+02  3.390e+02\n  2.710e+02 -1.600e+01  6.000e+00 -1.020e+02  0.000e+00  0.000e+00\n  0.000e+00  0.000e+00  0.000e+00  0.000e+00  5.780e+02  8.720e+02\n  1.226e+03  1.707e+03  1.150e+03  1.600e+02  4.500e+01 -6.200e+01\n  5.000e+00 -9.390e+02 -1.500e+02 -7.910e+02  7.000e+01  8.030e+02\n  5.090e+02  8.130e+02  1.110e+02  3.500e+01 -1.520e+02  0.000e+00\n  0.000e+00  0.000e+00  0.000e+00  0.000e+00  0.000e+00  0.000e+00\n  0.000e+00  0.000e+00  3.660e+02  1.159e+03  1.668e+03  2.116e+03\n  2.265e+03  1.586e+03  1.549e+03  1.927e+03  1.129e+03 -3.100e+02\n -6.220e+02 -1.233e+03 -3.260e+02  2.480e+02  4.910e+02  7.880e+02\n  1.760e+02  1.650e+02  0.000e+00  0.000e+00  0.000e+00  0.000e+00\n  0.000e+00  0.000e+00  0.000e+00  0.000e+00  0.000e+00  0.000e+00\n  1.840e+02  8.230e+02  1.304e+03  1.919e+03  2.340e+03  2.084e+03\n  2.316e+03  2.325e+03  1.887e+03  8.120e+02  1.370e+02 -4.980e+02\n  2.720e+02  5.160e+02  1.700e+02  5.960e+02  2.620e+02 -9.000e+00\n -4.000e+00  0.000e+00  0.000e+00  0.000e+00  0.000e+00  0.000e+00\n  0.000e+00  0.000e+00  0.000e+00  0.000e+00  2.160e+02  7.140e+02\n  1.170e+03  1.547e+03  1.168e+03  1.466e+03  1.865e+03  1.602e+03\n  1.321e+03  1.066e+03  8.590e+02  5.860e+02  5.170e+02  1.830e+02\n -3.400e+01  1.150e+02  8.500e+01 -2.520e+02 -1.100e+01  0.000e+00\n  0.000e+00  0.000e+00  9.700e+01  0.000e+00  0.000e+00  0.000e+00\n  0.000e+00  0.000e+00  2.440e+02  3.240e+02  7.540e+02  6.710e+02\n  4.510e+02  5.960e+02  1.820e+02  1.050e+02  1.087e+03  1.180e+03\n  1.366e+03  6.660e+02 -1.260e+02 -2.700e+01 -3.950e+02 -4.830e+02\n -2.450e+02 -2.520e+02 -6.300e+01  0.000e+00  0.000e+00  0.000e+00\n  1.000e+01  0.000e+00  0.000e+00  0.000e+00  0.000e+00  0.000e+00\n  1.010e+02  1.590e+02  1.210e+02 -2.220e+02 -1.200e+02 -1.150e+02\n -7.170e+02 -2.140e+02  1.020e+03  1.082e+03  1.069e+03 -4.370e+02\n -7.440e+02 -4.480e+02 -9.480e+02 -7.990e+02 -3.590e+02 -1.310e+02\n -1.100e+01  0.000e+00  0.000e+00  0.000e+00  0.000e+00  0.000e+00\n  0.000e+00  0.000e+00  0.000e+00  0.000e+00  0.000e+00  0.000e+00\n -5.520e+02 -6.820e+02 -2.370e+02 -5.100e+02 -6.550e+02 -3.450e+02\n -3.200e+02 -7.240e+02  1.200e+01  1.700e+02 -8.060e+02 -4.590e+02\n -6.840e+02 -5.030e+02 -7.400e+01  0.000e+00  0.000e+00  0.000e+00\n  0.000e+00  0.000e+00  0.000e+00  0.000e+00  0.000e+00  0.000e+00\n  0.000e+00  0.000e+00  0.000e+00  0.000e+00  0.000e+00  0.000e+00\n -1.880e+02 -4.560e+02 -1.020e+02 -1.550e+02 -2.840e+02 -3.820e+02\n -3.500e+02 -3.000e+00  0.000e+00  0.000e+00  0.000e+00  0.000e+00\n  0.000e+00  0.000e+00  0.000e+00  0.000e+00  0.000e+00  0.000e+00\n  0.000e+00  0.000e+00  0.000e+00  0.000e+00  0.000e+00  0.000e+00\n  0.000e+00  0.000e+00  0.000e+00  0.000e+00 -1.740e+02 -1.090e+02\n  0.000e+00  0.000e+00  0.000e+00  0.000e+00  0.000e+00  0.000e+00\n  0.000e+00  0.000e+00  0.000e+00  0.000e+00  0.000e+00  0.000e+00\n  0.000e+00  0.000e+00  0.000e+00  0.000e+00  0.000e+00  0.000e+00\n  0.000e+00  0.000e+00  0.000e+00  0.000e+00  0.000e+00  0.000e+00\n  0.000e+00  0.000e+00  0.000e+00  0.000e+00  0.000e+00  0.000e+00\n  0.000e+00  0.000e+00  0.000e+00  0.000e+00  0.000e+00  0.000e+00\n  0.000e+00  0.000e+00  0.000e+00  0.000e+00  0.000e+00  0.000e+00\n  0.000e+00  0.000e+00  0.000e+00  0.000e+00]\nNumber of errors: 66\nMargin: 13.262076260785593\n\nRadius of the dataset: 4380.656685931916\n"
        }
      ],
      "execution_count": 206,
      "metadata": {
        "colab": {
          "base_uri": "https://localhost:8080/"
        },
        "executionInfo": {
          "elapsed": 3941,
          "status": "ok",
          "timestamp": 1709085791701,
          "user": {
            "displayName": "kush shrivastava",
            "userId": "06343033913709852627"
          },
          "user_tz": -330
        },
        "id": "x6Ci7IuQcOlx",
        "outputId": "5708bb0f-a93b-4652-b71d-4171f569acd0"
      }
    },
    {
      "cell_type": "code",
      "source": [
        "import matplotlib.pyplot as plt\n",
        "plt.imshow(mnist_data[0][0].reshape(28,28),cmap=plt.cm.gray_r,interpolation=\"nearest\")"
      ],
      "outputs": [
        {
          "output_type": "execute_result",
          "execution_count": 11,
          "data": {
            "text/plain": "<matplotlib.image.AxesImage at 0x7da0bf45b940>"
          },
          "metadata": {}
        },
        {
          "output_type": "display_data",
          "data": {
            "image/png": "[encoded data removed]",
            "text/plain": "<Figure size 640x480 with 1 Axes>"
          },
          "metadata": {}
        }
      ],
      "execution_count": null,
      "metadata": {
        "colab": {
          "base_uri": "https://localhost:8080/",
          "height": 448
        },
        "executionInfo": {
          "elapsed": 421,
          "status": "ok",
          "timestamp": 1707761818825,
          "user": {
            "displayName": "Dhruva Kashyap",
            "userId": "02225552102464917481"
          },
          "user_tz": -330
        },
        "id": "ryJSuXhRh04H",
        "outputId": "388dc3b6-93e6-4e05-c59e-858876a05b93"
      }
    },
    {
      "cell_type": "markdown",
      "source": [
        "#Question 3 : Fisher Linear Discriminant"
      ],
      "metadata": {
        "id": "tMK0GPCJRAv9"
      }
    },
    {
      "cell_type": "markdown",
      "source": [
        "Part A : Fisher on IRIS Dataset"
      ],
      "metadata": {
        "id": "r1fFJSOTKKyE"
      }
    },
    {
      "cell_type": "code",
      "source": [
        "#importing required libraries\n",
        "import matplotlib.pyplot as plt\n",
        "import numpy as np\n",
        "from sklearn.datasets import load_iris\n",
        "from numpy.linalg import inv"
      ],
      "outputs": [],
      "execution_count": null,
      "metadata": {
        "id": "_o_BptuPQ0vV"
      }
    },
    {
      "cell_type": "code",
      "source": [
        "# Loading Iris Dataset\n",
        "iris_dataset = load_iris()\n",
        "data = iris_dataset.data\n",
        "label = iris_dataset.target"
      ],
      "outputs": [],
      "execution_count": null,
      "metadata": {
        "id": "GMxw1mQHTv9B"
      }
    },
    {
      "cell_type": "code",
      "source": [
        "#Preparing train dataset for setosa and vertsicolor\n",
        "X_train = np.concatenate((data[0:50],data[100:150]),axis=0)\n",
        "print(X_train.shape)"
      ],
      "outputs": [
        {
          "output_type": "stream",
          "name": "stdout",
          "text": "(100, 4)\n"
        }
      ],
      "execution_count": null,
      "metadata": {
        "colab": {
          "base_uri": "https://localhost:8080/"
        },
        "executionInfo": {
          "elapsed": 5,
          "status": "ok",
          "timestamp": 1708889704239,
          "user": {
            "displayName": "kush shrivastava",
            "userId": "06343033913709852627"
          },
          "user_tz": -330
        },
        "id": "KZGWx0N8T1uG",
        "outputId": "8d4eff4a-0f19-4553-af2d-d230d1b524db"
      }
    },
    {
      "cell_type": "code",
      "source": [
        "data.shape"
      ],
      "outputs": [
        {
          "output_type": "execute_result",
          "execution_count": 19,
          "data": {
            "text/plain": "(150, 4)"
          },
          "metadata": {}
        }
      ],
      "execution_count": null,
      "metadata": {
        "colab": {
          "base_uri": "https://localhost:8080/"
        },
        "executionInfo": {
          "elapsed": 4,
          "status": "ok",
          "timestamp": 1707743764793,
          "user": {
            "displayName": "Dhruva Kashyap",
            "userId": "02225552102464917481"
          },
          "user_tz": -330
        },
        "id": "KvnLB-_sJw1H",
        "outputId": "1e326c19-f51e-4fd5-abb2-43499a441458"
      }
    },
    {
      "cell_type": "markdown",
      "source": [
        "Your implementation starts here.\n",
        "\n",
        "Do not use already available implementation of fisher discriminant from libraries like scikit-learn.\n",
        "\n",
        "You can use numpy to perform computations and matplotlib for plotting."
      ],
      "metadata": {
        "id": "YXYCB9YxW4De"
      }
    },
    {
      "cell_type": "code",
      "source": [
        "import numpy as np\n",
        "#importing required libraries\n",
        "import matplotlib.pyplot as plt\n",
        "from sklearn.datasets import load_iris\n",
        "from numpy.linalg import inv\n",
        "\n",
        "\n",
        "# Loading Iris Dataset\n",
        "iris_dataset = load_iris()\n",
        "data = iris_dataset.data\n",
        "label = iris_dataset.target\n",
        "\n",
        "# Prepare train dataset for setosa and versicolor\n",
        "X_train = np.concatenate((data[0:50], data[100:150]), axis=0)\n",
        "\n",
        "# Calculate mean vectors for each class\n",
        "mean_setosa = np.mean(X_train[:50], axis=0)\n",
        "mean_versicolor = np.mean(X_train[50:], axis=0)\n",
        "\n",
        "# Calculate within-class scatter matrix Sw\n",
        "scatter_setosa = np.dot((X_train[:50] - mean_setosa).T, (X_train[:50] - mean_setosa))\n",
        "scatter_versicolor = np.dot((X_train[50:] - mean_versicolor).T, (X_train[50:] - mean_versicolor))\n",
        "Sw = scatter_setosa + scatter_versicolor\n",
        "\n",
        "# Calculate between-class scatter matrix Sb\n",
        "mean_diff = mean_setosa - mean_versicolor\n",
        "Sb = np.outer(mean_diff, mean_diff)\n",
        "\n",
        "# Find w to project the data to single dimension\n",
        "w = np.dot(np.linalg.inv(Sw), mean_diff)\n",
        "\n",
        "# Normalize w\n",
        "w_normalized = w / np.linalg.norm(w)\n",
        "\n",
        "print(\"Normalized projection vector w:\", w_normalized)\n",
        "\n"
      ],
      "outputs": [
        {
          "output_type": "stream",
          "name": "stdout",
          "text": "Normalized projection vector w: [ 0.28543316  0.2165812  -0.65799713 -0.66231433]\n"
        }
      ],
      "execution_count": null,
      "metadata": {
        "colab": {
          "base_uri": "https://localhost:8080/"
        },
        "executionInfo": {
          "elapsed": 433,
          "status": "ok",
          "timestamp": 1708968397273,
          "user": {
            "displayName": "kush shrivastava",
            "userId": "06343033913709852627"
          },
          "user_tz": -330
        },
        "id": "nTkkvLlcT5Q6",
        "outputId": "851982fc-0ee7-4e4a-e546-a66198d002cc"
      }
    },
    {
      "cell_type": "code",
      "source": [
        "#Project the data and find the threshold for classification with minimum error.\n",
        "# The threshold b is the mid point of means after projection so,\n",
        "\n",
        "\n",
        "\n",
        "# Project data onto the line defined by the projection vector w\n",
        "X_train_proj = np.dot(X_train, w_normalized)\n",
        "\n",
        "# Project class means onto the line\n",
        "mean_setosa_proj = np.dot(mean_setosa, w_normalized)\n",
        "mean_versicolor_proj = np.dot(mean_versicolor, w_normalized)\n",
        "\n",
        "# Calculate threshold as the midpoint between the projections of class means\n",
        "b = (mean_setosa_proj + mean_versicolor_proj) / 2\n",
        "\n",
        "print(\"Threshold b:\", b)\n"
      ],
      "outputs": [
        {
          "output_type": "stream",
          "name": "stdout",
          "text": "Threshold b: -0.7120525349911094\n"
        }
      ],
      "execution_count": null,
      "metadata": {
        "colab": {
          "base_uri": "https://localhost:8080/"
        },
        "executionInfo": {
          "elapsed": 529,
          "status": "ok",
          "timestamp": 1708968582169,
          "user": {
            "displayName": "kush shrivastava",
            "userId": "06343033913709852627"
          },
          "user_tz": -330
        },
        "id": "MgMgGq_4UMoY",
        "outputId": "31f3b911-b859-40e7-9d3f-9fa7a9e49d22"
      }
    },
    {
      "cell_type": "code",
      "source": [
        "#Plot the histogram of the projected data and the classification boundary.\n",
        "#Use matplot lib for plotting.\n",
        "#while plotting histogram give different color for different classes and also add legend.\n",
        "#you can refer :- https://matplotlib.org/stable/gallery/text_labels_and_annotations/index.html\n",
        "\n",
        "import matplotlib.pyplot as plt\n",
        "import numpy as np\n",
        "\n",
        "# Projected data\n",
        "X_train_proj = np.dot(X_train, w_normalized)\n",
        "\n",
        "# Plot histogram of projected data\n",
        "plt.hist(X_train_proj[:50], color='blue', alpha=0.5, label='Setosa')\n",
        "plt.hist(X_train_proj[50:], color='red', alpha=0.5, label='Versicolor')\n",
        "\n",
        "# Plot classification boundary\n",
        "plt.axvline(x=b, color='green', linestyle='--', label='Threshold b')\n",
        "\n",
        "# Add legend\n",
        "plt.legend()\n",
        "\n",
        "# Add labels and title\n",
        "plt.xlabel('Projected Data')\n",
        "plt.ylabel('Frequency')\n",
        "plt.title('Histogram of Projected Data with Classification Boundary')\n",
        "\n",
        "# Show plot\n",
        "plt.show()\n",
        "\n"
      ],
      "outputs": [
        {
          "output_type": "display_data",
          "data": {
            "image/png": "[encoded data removed]",
            "text/plain": "<Figure size 640x480 with 1 Axes>"
          },
          "metadata": {}
        }
      ],
      "execution_count": null,
      "metadata": {
        "colab": {
          "base_uri": "https://localhost:8080/",
          "height": 472
        },
        "executionInfo": {
          "elapsed": 1228,
          "status": "ok",
          "timestamp": 1708968602218,
          "user": {
            "displayName": "kush shrivastava",
            "userId": "06343033913709852627"
          },
          "user_tz": -330
        },
        "id": "HEeWT3SZUHV8",
        "outputId": "89d625d3-ce25-4e55-fde5-538c8be2432b"
      }
    },
    {
      "cell_type": "markdown",
      "source": [
        "Part B: Fisher on custom Dataset"
      ],
      "metadata": {
        "id": "qvi-FELCKO-h"
      }
    },
    {
      "cell_type": "code",
      "source": [
        "#Load train Dataset\n",
        "mysrn = 22235\n",
        "help(AIML_A1.q3_get_data)\n",
        "data_for_fisher = AIML_A1.q3_get_data(mysrn)\n",
        "print(data_for_fisher[:])"
      ],
      "outputs": [
        {
          "output_type": "stream",
          "name": "stdout",
          "text": "Help on function q3_get_data in module oracle:\n\nq3_get_data(srn: int) -> list[tuple[numpy.ndarray, int]]\n    srn: 5 digit number.\n    \n    Help:\n    This function returns the training dataset for question 4\n    It returns a list containing all the data points.\n    Each entry of the list is a tuple of two elements;\n    the first element is the 2-dimensional data $[x_1,x_2]$,\n    and the second element is the label ($1$ or $0$).\n\n[(array([-0.06895126,  0.36145516]), 1.0), (array([-0.72896863, -0.68454711]), 0.0), (array([-0.48175367,  0.87630668]), 0.0), (array([0.2345548 , 0.28352805]), 1.0), (array([0.90482705, 0.42577929]), 0.0), (array([0.36797298, 0.        ]), 1.0), (array([-0.80901699,  0.58778525]), 0.0), (array([ 0.63742399, -0.77051324]), 0.0), (array([ 0.06279052, -0.99802673]), 0.0), (array([-0.24868989, -0.96858316]), 0.0), (array([-0.15667527, -0.3329519 ]), 1.0), (array([-0.99802673, -0.06279052]), 0.0), (array([-0.12533323, -0.9921147 ]), 0.0), (array([-0.96858316, -0.24868989]), 0.0), (array([-0.68454711, -0.72896863]), 0.0), (array([-0.68454711,  0.72896863]), 0.0), (array([ 0.18738131, -0.98228725]), 0.0), (array([ 0.80901699, -0.58778525]), 0.0), (array([-0.95105652,  0.30901699]), 0.0), (array([0.53582679, 0.84432793]), 0.0), (array([-0.32245718,  0.17727233]), 1.0), (array([-0.53582679, -0.84432793]), 0.0), (array([0.06279052, 0.99802673]), 0.0), (array([0.87630668, 0.48175367]), 0.0), (array([-0.3650714 , -0.04611924]), 1.0), (array([0.18738131, 0.98228725]), 0.0), (array([-0.92977649,  0.36812455]), 0.0), (array([ 0.98228725, -0.18738131]), 0.0), (array([ 0.90482705, -0.42577929]), 0.0), (array([-0.06279052,  0.99802673]), 0.0), (array([-0.02310521, -0.36724687]), 1.0), (array([ 0.53582679, -0.84432793]), 0.0), (array([-0.12533323,  0.9921147 ]), 0.0), (array([-0.35641243, -0.09151116]), 1.0), (array([-0.2345548 , -0.28352805]), 1.0), (array([-0.84432793, -0.53582679]), 0.0), (array([0.42577929, 0.90482705]), 0.0), (array([ 0.48175367, -0.87630668]), 0.0), (array([-0.77051324, -0.63742399]), 0.0), (array([ 0.87630668, -0.48175367]), 0.0), (array([0.02310521, 0.36724687]), 1.0), (array([0.9921147 , 0.12533323]), 0.0), (array([ 0.15667527, -0.3329519 ]), 1.0), (array([-0.90482705,  0.42577929]), 0.0), (array([0.80901699, 0.58778525]), 0.0), (array([-0.80901699, -0.58778525]), 0.0), (array([-0.15667527,  0.3329519 ]), 1.0), (array([ 0.26824076, -0.25189484]), 1.0), (array([-0.26824076,  0.25189484]), 1.0), (array([0.19716978, 0.31068986]), 1.0), (array([-0.36812455, -0.92977649]), 0.0), (array([-0.1137099, -0.3499631]), 1.0), (array([-0.92977649, -0.36812455]), 0.0), (array([ 0.30901699, -0.95105652]), 0.0), (array([-0.35641243,  0.09151116]), 1.0), (array([-0.19716978, -0.31068986]), 1.0), (array([0.26824076, 0.25189484]), 1.0), (array([ 0.32245718, -0.17727233]), 1.0), (array([-1.0000000e+00, -3.2162453e-16]), 0.0), (array([ 0.34213262, -0.13545989]), 1.0), (array([ 0.58778525, -0.80901699]), 0.0), (array([-0.30901699,  0.95105652]), 0.0), (array([0.3650714 , 0.04611924]), 1.0), (array([ 0.92977649, -0.36812455]), 0.0), (array([-0.63742399, -0.77051324]), 0.0), (array([ 0.77051324, -0.63742399]), 0.0), (array([ 0.84432793, -0.53582679]), 0.0), (array([-3.67972977e-01, -1.18349136e-16]), 1.0), (array([-0.9921147 ,  0.12533323]), 0.0), (array([0.68454711, 0.72896863]), 0.0), (array([0.06895126, 0.36145516]), 1.0), (array([ 0.95105652, -0.30901699]), 0.0), (array([0.30901699, 0.95105652]), 0.0), (array([0.58778525, 0.80901699]), 0.0), (array([-0.9921147 , -0.12533323]), 0.0), (array([0.98228725, 0.18738131]), 0.0), (array([ 0.3650714 , -0.04611924]), 1.0), (array([ 0.9921147 , -0.12533323]), 0.0), (array([0.92977649, 0.36812455]), 0.0), (array([-0.42577929, -0.90482705]), 0.0), (array([0.15667527, 0.3329519 ]), 1.0), (array([ 0.96858316, -0.24868989]), 0.0), (array([0.72896863, 0.68454711]), 0.0), (array([0.35641243, 0.09151116]), 1.0), (array([-0.29769639,  0.21628909]), 1.0), (array([0.32245718, 0.17727233]), 1.0), (array([-0.34213262, -0.13545989]), 1.0), (array([-0.96858316,  0.24868989]), 0.0), (array([0.77051324, 0.63742399]), 0.0), (array([0.1137099, 0.3499631]), 1.0), (array([-0.3650714 ,  0.04611924]), 1.0), (array([-0.84432793,  0.53582679]), 0.0), (array([ 0.35641243, -0.09151116]), 1.0), (array([0.99802673, 0.06279052]), 0.0), (array([-0.02310521,  0.36724687]), 1.0), (array([ 0.06895126, -0.36145516]), 1.0), (array([-0.87630668,  0.48175367]), 0.0), (array([0.96858316, 0.24868989]), 0.0), (array([-0.32245718, -0.17727233]), 1.0), (array([0.48175367, 0.87630668]), 0.0), (array([-0.72896863,  0.68454711]), 0.0), (array([0.95105652, 0.30901699]), 0.0), (array([-0.98228725, -0.18738131]), 0.0), (array([ 0.2345548 , -0.28352805]), 1.0), (array([0.29769639, 0.21628909]), 1.0), (array([1., 0.]), 0.0), (array([-0.53582679,  0.84432793]), 0.0), (array([-0.18738131,  0.98228725]), 0.0), (array([-0.95105652, -0.30901699]), 0.0), (array([-1.8369702e-16, -1.0000000e+00]), 0.0), (array([-0.58778525,  0.80901699]), 0.0), (array([0.12533323, 0.9921147 ]), 0.0), (array([-0.06279052, -0.99802673]), 0.0), (array([-0.36812455,  0.92977649]), 0.0), (array([-0.2345548 ,  0.28352805]), 1.0), (array([-0.90482705, -0.42577929]), 0.0), (array([-0.26824076, -0.25189484]), 1.0), (array([-0.58778525, -0.80901699]), 0.0), (array([-0.42577929,  0.90482705]), 0.0), (array([ 0.02310521, -0.36724687]), 1.0), (array([0.63742399, 0.77051324]), 0.0), (array([-0.34213262,  0.13545989]), 1.0), (array([0.36812455, 0.92977649]), 0.0), (array([-0.24868989,  0.96858316]), 0.0), (array([-0.29769639, -0.21628909]), 1.0), (array([-0.99802673,  0.06279052]), 0.0), (array([-0.06895126, -0.36145516]), 1.0), (array([ 0.99802673, -0.06279052]), 0.0), (array([ 0.42577929, -0.90482705]), 0.0), (array([ 0.24868989, -0.96858316]), 0.0), (array([-0.1137099,  0.3499631]), 1.0), (array([ 0.29769639, -0.21628909]), 1.0), (array([-0.18738131, -0.98228725]), 0.0), (array([ 0.12533323, -0.9921147 ]), 0.0), (array([-1.60812265e-16,  1.00000000e+00]), 0.0), (array([ 0.36812455, -0.92977649]), 0.0), (array([ 0.1137099, -0.3499631]), 1.0), (array([ 0.19716978, -0.31068986]), 1.0), (array([-0.77051324,  0.63742399]), 0.0), (array([-0.87630668, -0.48175367]), 0.0), (array([ 0.72896863, -0.68454711]), 0.0), (array([-0.30901699, -0.95105652]), 0.0), (array([ 0.68454711, -0.72896863]), 0.0), (array([-0.63742399,  0.77051324]), 0.0), (array([0.24868989, 0.96858316]), 0.0), (array([0.84432793, 0.53582679]), 0.0), (array([0.34213262, 0.13545989]), 1.0), (array([-0.48175367, -0.87630668]), 0.0), (array([-0.19716978,  0.31068986]), 1.0), (array([-0.98228725,  0.18738131]), 0.0)]\n"
        }
      ],
      "execution_count": null,
      "metadata": {
        "colab": {
          "base_uri": "https://localhost:8080/"
        },
        "executionInfo": {
          "elapsed": 680,
          "status": "ok",
          "timestamp": 1708968641604,
          "user": {
            "displayName": "kush shrivastava",
            "userId": "06343033913709852627"
          },
          "user_tz": -330
        },
        "id": "jvnhP1GeKR3B",
        "outputId": "4178bfbf-349e-4420-a6bd-55aefbd35124"
      }
    },
    {
      "cell_type": "code",
      "source": [
        "import numpy as np\n",
        "import matplotlib.pyplot as plt\n",
        "\n",
        "# Function to compute within-class scatter matrix Sw\n",
        "def within_class_scatter(data, labels):\n",
        "    unique_labels = np.unique(labels)\n",
        "    Sw = np.zeros((data.shape[1], data.shape[1]))\n",
        "    for label in unique_labels:\n",
        "        class_data = data[labels == label]\n",
        "        class_mean = np.mean(class_data, axis=0)\n",
        "        diff = class_data - class_mean\n",
        "        Sw += np.dot(diff.T, diff)\n",
        "    return Sw\n",
        "\n",
        "# Function to compute between-class scatter matrix Sb\n",
        "def between_class_scatter(data, labels):\n",
        "    unique_labels = np.unique(labels)\n",
        "    total_mean = np.mean(data, axis=0)\n",
        "    Sb = np.zeros((data.shape[1], data.shape[1]))\n",
        "    for label in unique_labels:\n",
        "        class_data = data[labels == label]\n",
        "        class_mean = np.mean(class_data, axis=0)\n",
        "        diff = class_mean - total_mean\n",
        "        Sb += len(class_data) * np.outer(diff, diff)\n",
        "    return Sb\n",
        "\n",
        "# Load train dataset using q3_get_data function\n",
        "data_for_fisher = AIML_A1.q3_get_data(22235)\n",
        "\n",
        "# Extract data points and labels from data_for_fisher\n",
        "data = np.array([x[0] for x in data_for_fisher])\n",
        "labels = np.array([x[1] for x in data_for_fisher])\n",
        "\n",
        "# Calculate Sw and Sb\n",
        "Sw = within_class_scatter(data, labels)\n",
        "Sb = between_class_scatter(data, labels)\n",
        "\n",
        "# Find mean vectors for each class\n",
        "mean_class1 = np.mean(data[labels == 0], axis=0)\n",
        "mean_class2 = np.mean(data[labels == 1], axis=0)\n",
        "\n",
        "# Find scatter matrices for each class\n",
        "scatter_class1 = within_class_scatter(data[labels == 0], labels[labels == 0])\n",
        "scatter_class2 = within_class_scatter(data[labels == 1], labels[labels == 1])\n",
        "\n",
        "# Find projection vector w directly using the formula\n",
        "w = np.dot(np.linalg.inv(Sw), (mean_class1 - mean_class2))\n",
        "\n",
        "# Normalize the projection vector\n",
        "w_normalized = w / np.linalg.norm(w)\n",
        "print(\"w_normalized:\", w_normalized)\n",
        "\n",
        "# Project data onto w\n",
        "projected_data = np.dot(data, w_normalized)\n",
        "# Plot data points before projecting\n",
        "plt.scatter(data[labels == 0][:, 0], data[labels == 0][:, 1], color='blue', label='Class 0')\n",
        "plt.scatter(data[labels == 1][:, 0], data[labels == 1][:, 1], color='red', label='Class 1')\n",
        "\n",
        "# Plot projection vector w\n",
        "plt.quiver(0, 0, w_normalized[0], w_normalized[1], scale=5, color='green')\n",
        "\n",
        "# Add labels and title for data points plot\n",
        "plt.xlabel('Feature 1')\n",
        "plt.ylabel('Feature 2')\n",
        "plt.title('Data Points Before Projection')\n",
        "\n",
        "# Add legend for data points plot\n",
        "plt.legend()\n",
        "\n",
        "# Show plot for data points before projecting\n",
        "plt.show()\n",
        "\n",
        "# Plot histogram of projected data\n",
        "plt.hist(projected_data[labels == 0], color='blue', alpha=0.5, label='Class 0')\n",
        "plt.hist(projected_data[labels == 1], color='red', alpha=0.5, label='Class 1')\n",
        "\n",
        "# Add labels and title\n",
        "plt.xlabel('Projected Data')\n",
        "plt.ylabel('Frequency')\n",
        "plt.title('Histogram of Projected Data with Fisher Discriminant')\n",
        "\n",
        "# Add legend\n",
        "plt.legend()\n",
        "\n",
        "# Show plot\n",
        "plt.show()\n"
      ],
      "outputs": [
        {
          "output_type": "stream",
          "name": "stdout",
          "text": "w_normalized: [0.74508414 0.66697048]\n"
        },
        {
          "output_type": "display_data",
          "data": {
            "text/plain": "<Figure size 640x480 with 1 Axes>",
            "image/png": "[encoded data removed]"
          },
          "metadata": {}
        },
        {
          "output_type": "display_data",
          "data": {
            "text/plain": "<Figure size 640x480 with 1 Axes>",
            "image/png": "[encoded data removed]"
          },
          "metadata": {}
        }
      ],
      "execution_count": 207,
      "metadata": {
        "colab": {
          "base_uri": "https://localhost:8080/",
          "height": 945
        },
        "executionInfo": {
          "elapsed": 2163,
          "status": "ok",
          "timestamp": 1709086792945,
          "user": {
            "displayName": "kush shrivastava",
            "userId": "06343033913709852627"
          },
          "user_tz": -330
        },
        "id": "qNTxTekg2tFd",
        "outputId": "07d83114-006f-4025-cc77-084cc5d1c63f"
      }
    },
    {
      "cell_type": "markdown",
      "source": [
        "From the histogram, it's clear that the data is not linearly separable."
      ],
      "metadata": {
        "id": "NWRGhSPu2lHq"
      }
    },
    {
      "cell_type": "code",
      "source": [
        "import numpy as np\n",
        "import matplotlib.pyplot as plt\n",
        "\n",
        "\n",
        "# Function to compute within-class scatter matrix Sw\n",
        "def within_class_scatter(data, labels):\n",
        "    unique_labels = np.unique(labels)\n",
        "    Sw = np.zeros((data.shape[1], data.shape[1]))\n",
        "    for label in unique_labels:\n",
        "        class_data = data[labels == label]\n",
        "        class_mean = np.mean(class_data, axis=0)\n",
        "        diff = class_data - class_mean\n",
        "        Sw += np.dot(diff.T, diff)\n",
        "    return Sw\n",
        "# Load train dataset using q3_get_data function\n",
        "data_for_fisher = AIML_A1.q3_get_data(22235)\n",
        "\n",
        "# Extract data points and labels from data_for_fisher\n",
        "data = np.array([x[0] for x in data_for_fisher])\n",
        "labels = np.array([x[1] for x in data_for_fisher])\n",
        "\n",
        "# Transform data to higher-dimensional space\n",
        "data_class_0 = np.array(data[labels == 0])\n",
        "data_class_1 = np.array(data[labels == 1])\n",
        "phi_data_class0 = np.c_[data_class_0, data_class_0**2]\n",
        "phi_data_class1 = np.c_[data_class_1, data_class_1**2]\n",
        "\n",
        "\n",
        "# Calculate Sw and Sb for class 1\n",
        "Sw_class1 = within_class_scatter(phi_data_class1, np.zeros(len(phi_data_class1)))\n",
        "Sw_class0 = within_class_scatter(phi_data_class0, np.zeros(len(phi_data_class0)))\n",
        "Sum_of_Sw = Sw_class0 + Sw_class1\n",
        "w= np.dot(np.linalg.inv(Sum_of_Sw), (mean_class0 - mean_class1))\n",
        "w_normalized = w / np.linalg.norm(w)\n",
        "\n",
        "# Find mean vectors for each class\n",
        "mean_class0 = np.mean(phi_data_class0, axis=0)\n",
        "mean_class1 = np.mean(phi_data_class1, axis=0)\n",
        "# Project data points onto the normalized projection vector w_normalized\n",
        "projection_class0 = np.dot(phi_data_class0, w_normalized)\n",
        "projection_class1 = np.dot(phi_data_class1, w_normalized)\n",
        "\n",
        "# Find the mean projection for each class\n",
        "mean_projection_class0 = np.mean(projection_class0)\n",
        "mean_projection_class1 = np.mean(projection_class1)\n",
        "\n",
        "# Calculate the threshold b as the midpoint between the mean projections\n",
        "threshold_b = (mean_projection_class0 + mean_projection_class1) / 2\n",
        "\n",
        "print(\"Threshold b:\", threshold_b)\n",
        "\n",
        "# Print projection vector w\n",
        "print(\"w_normalized\",w_normalized)\n",
        "\n"
      ],
      "outputs": [
        {
          "output_type": "stream",
          "name": "stdout",
          "text": "Threshold b: 0.40142597354547827\nw_normalized [-7.98454152e-18  8.31770944e-18  7.07106781e-01  7.07106781e-01]\n"
        }
      ],
      "execution_count": 230,
      "metadata": {
        "colab": {
          "base_uri": "https://localhost:8080/"
        },
        "executionInfo": {
          "elapsed": 705,
          "status": "ok",
          "timestamp": 1709093597106,
          "user": {
            "displayName": "kush shrivastava",
            "userId": "06343033913709852627"
          },
          "user_tz": -330
        },
        "id": "o8XqU54b21HR",
        "outputId": "b7d8accf-ca65-4456-e13d-9ca7bede53d9"
      }
    },
    {
      "cell_type": "code",
      "source": [
        "\n",
        "\n",
        "import numpy as np\n",
        "import matplotlib.pyplot as plt\n",
        "\n",
        "\n",
        "# Load train dataset using q3_get_data function\n",
        "data_for_fisher = AIML_A1.q3_get_data(22235)\n",
        "\n",
        "# Extract data points and labels from data_for_fisher\n",
        "data = np.array([x[0] for x in data_for_fisher])\n",
        "labels = np.array([x[1] for x in data_for_fisher])\n",
        "\n",
        "# Transform data to higher-dimensional space\n",
        "data_class_0 = np.array(data[labels == 0])\n",
        "data_class_1 = np.array(data[labels == 1])\n",
        "\n",
        "# Assuming you have defined w and threshold_b correctly\n",
        "\n",
        "# Plot original data points\n",
        "plt.scatter(phi_data_class0[:, 0], phi_data_class0[:, 1], color='blue', label='Class 0')\n",
        "plt.scatter(phi_data_class1[:, 0], phi_data_class1[:, 1], color='red', label='Class 1')\n",
        "\n",
        "x1 = np.linspace(-2, 2, 100)\n",
        "x2 = np.linspace(-2, 2, 100)\n",
        "X1, X2 = np.meshgrid(x1, x2)\n",
        "F = w_normalized[2]*X1**2 + w_normalized[3]*X2**2 - threshold_b\n",
        "plt.contour(X1, X2, F, [0], colors='r')\n",
        "plt.xlim(-1.05,1.05)\n",
        "plt.ylim(-1.05,1.05)\n",
        "plt.show()\n"
      ],
      "outputs": [
        {
          "output_type": "display_data",
          "data": {
            "text/plain": "<Figure size 640x480 with 1 Axes>",
            "image/png": "[encoded data removed]"
          },
          "metadata": {}
        }
      ],
      "execution_count": 229,
      "metadata": {
        "id": "tp3y7RmV3DR2",
        "colab": {
          "base_uri": "https://localhost:8080/",
          "height": 430
        },
        "executionInfo": {
          "status": "ok",
          "timestamp": 1709093590465,
          "user_tz": -330,
          "elapsed": 1392,
          "user": {
            "displayName": "kush shrivastava",
            "userId": "06343033913709852627"
          }
        },
        "outputId": "0685b87a-2ea6-4f50-df7b-e6a32cfe7697"
      }
    },
    {
      "cell_type": "code",
      "source": [
        "#Load Test dataset\n",
        "help(AIML_A1.q3_get_test_data)\n",
        "test_data_for_fisher = AIML_A1.q3_get_test_data(mysrn)\n",
        "print(test_data_for_fisher[:5])"
      ],
      "outputs": [
        {
          "output_type": "stream",
          "name": "stdout",
          "text": "Help on function q3_get_test_data in module oracle:\n\nq3_get_test_data(srn: int) -> list[tuple[numpy.ndarray, int]]\n    srn: 5 digit number.\n    \n    Help:This function returns the test dataset for question 4\n    It returns a list containing all the data points. Each entry of the list is a tuple of two elements; \n    the first element is the 2-dimensional data $[x_1,x_2]$, and the second element is the label ($1$ or $0$).\n\n[(array([-0.90703602, -0.13092747]), 0.0), (array([ 0.22624671, -0.23209914]), 1.0), (array([0.8957163 , 0.11293441]), 0.0), (array([0.22697082, 0.0681396 ]), 1.0), (array([-0.50297734, -0.02655685]), 1.0)]\n"
        }
      ],
      "execution_count": 212,
      "metadata": {
        "colab": {
          "base_uri": "https://localhost:8080/"
        },
        "executionInfo": {
          "elapsed": 457,
          "status": "ok",
          "timestamp": 1709087887147,
          "user": {
            "displayName": "kush shrivastava",
            "userId": "06343033913709852627"
          },
          "user_tz": -330
        },
        "id": "2LkWuYPP3Jjy",
        "outputId": "e76d176d-9b5a-486c-f64f-24df32c710d4"
      }
    },
    {
      "cell_type": "code",
      "source": [
        "#Find Test Accuracy for various values of thresholds as explained.\n",
        "# Load Test dataset\n",
        "help(AIML_A1.q3_get_test_data)\n",
        "test_data_for_fisher = AIML_A1.q3_get_test_data(22235)\n",
        "print(test_data_for_fisher[:5])\n",
        "\n",
        "# Define thresholds\n",
        "thresholds = [threshold_b - 0.3, threshold_b - 0.2, threshold_b - 0.1, threshold_b,\n",
        "              threshold_b + 0.1, threshold_b + 0.2, threshold_b + 0.3]\n",
        "\n",
        "# Define function to classify data points based on threshold\n",
        "def classify_with_threshold(data, threshold):\n",
        "    return 1 if threshold - np.dot(data, w_normalized) >= 0 else 0\n",
        "\n",
        "# Calculate test accuracy for each threshold\n",
        "test_accuracies = []\n",
        "for threshold in thresholds:\n",
        "    correct_predictions = 0\n",
        "    total_predictions = len(test_data_for_fisher)\n",
        "    for point, label in test_data_for_fisher:\n",
        "        prediction = classify_with_threshold(transform_data(np.array([point])), threshold)\n",
        "        if prediction == label:\n",
        "            correct_predictions += 1\n",
        "    accuracy = correct_predictions / total_predictions\n",
        "    test_accuracies.append(accuracy)\n",
        "\n",
        "# Report test accuracies as a table\n",
        "import pandas as pd\n",
        "threshold_table = pd.DataFrame({\n",
        "    'Threshold': thresholds,\n",
        "    'Test Accuracy': test_accuracies\n",
        "})\n",
        "print(threshold_table)\n",
        "\n",
        "\n"
      ],
      "outputs": [
        {
          "output_type": "stream",
          "name": "stdout",
          "text": "Help on function q3_get_test_data in module oracle:\n\nq3_get_test_data(srn: int) -> list[tuple[numpy.ndarray, int]]\n    srn: 5 digit number.\n    \n    Help:This function returns the test dataset for question 4\n    It returns a list containing all the data points. Each entry of the list is a tuple of two elements; \n    the first element is the 2-dimensional data $[x_1,x_2]$, and the second element is the label ($1$ or $0$).\n\n[(array([-0.90703602, -0.13092747]), 0.0), (array([ 0.22624671, -0.23209914]), 1.0), (array([0.8957163 , 0.11293441]), 0.0), (array([0.22697082, 0.0681396 ]), 1.0), (array([-0.50297734, -0.02655685]), 1.0)]\n   Threshold  Test Accuracy\n0   0.101426           0.67\n1   0.201426           0.75\n2   0.301426           0.80\n3   0.401426           0.77\n4   0.501426           0.75\n5   0.601426           0.75\n6   0.701426           0.75\n"
        }
      ],
      "execution_count": 217,
      "metadata": {
        "id": "-zaLHrKU3UnO",
        "colab": {
          "base_uri": "https://localhost:8080/"
        },
        "executionInfo": {
          "status": "ok",
          "timestamp": 1709088289473,
          "user_tz": -330,
          "elapsed": 763,
          "user": {
            "displayName": "kush shrivastava",
            "userId": "06343033913709852627"
          }
        },
        "outputId": "ef08afd8-5e11-4ba6-85fb-bbfe9ca7a0d0"
      }
    },
    {
      "cell_type": "markdown",
      "source": [
        "#Question 4 : Logistic Regression"
      ],
      "metadata": {
        "id": "eJrDvi8eRA81"
      }
    },
    {
      "cell_type": "code",
      "source": [
        "#Loading Dataset\n",
        "import numpy as np\n",
        "import csv\n",
        "\n",
        "#Loading Data\n",
        "with open('diabetes.csv', 'r') as f:\n",
        "    reader = csv.reader(f)\n",
        "    diabetes_data = list(reader)\n",
        "diabetes_data = np.array(diabetes_data)\n",
        "\n",
        "diabetes_data =  diabetes_data[1:,]"
      ],
      "outputs": [
        {
          "output_type": "stream",
          "name": "stdout",
          "text": "[['6' '148' '72' ... '0.627' '50' '1']\n ['1' '85' '66' ... '0.351' '31' '0']\n ['8' '183' '64' ... '0.672' '32' '1']\n ...\n ['1' '89' '24' ... '0.559' '21' '0']\n ['1' '173' '74' ... '0.088' '38' '1']\n ['1' '109' '38' ... '0.407' '26' '0']]\n"
        }
      ],
      "execution_count": 220,
      "metadata": {
        "id": "1KHZutKmRFSt",
        "colab": {
          "base_uri": "https://localhost:8080/"
        },
        "executionInfo": {
          "status": "ok",
          "timestamp": 1709090763334,
          "user_tz": -330,
          "elapsed": 390,
          "user": {
            "displayName": "kush shrivastava",
            "userId": "06343033913709852627"
          }
        },
        "outputId": "723cb688-646d-4116-ff7f-956b12845547"
      }
    },
    {
      "cell_type": "code",
      "source": [
        "import numpy as np\n",
        "import csv\n",
        "from sklearn.linear_model import LogisticRegression\n",
        "\n",
        "# Load the Diabetes dataset\n",
        "with open('diabetes.csv', 'r') as f:\n",
        "    reader = csv.reader(f)\n",
        "    diabetes_data = list(reader)\n",
        "\n",
        "# Convert the data to a numpy array\n",
        "diabetes_data = np.array(diabetes_data)\n",
        "\n",
        "# Separate features (X) and target variable (y)\n",
        "X = diabetes_data[1:, :-1].astype(float)\n",
        "y = diabetes_data[1:, -1].astype(int)\n",
        "\n",
        "# Perform K-Fold Cross Validation with K = 6\n",
        "K = 6\n",
        "fold_size = len(X) // K\n",
        "conf_matrices = []\n",
        "accuracies = []\n",
        "\n",
        "for i in range(K):\n",
        "    # Split data into training and testing sets for this fold\n",
        "    X_train = np.concatenate((X[:i*fold_size], X[(i+1)*fold_size:]), axis=0)\n",
        "    y_train = np.concatenate((y[:i*fold_size], y[(i+1)*fold_size:]), axis=0)\n",
        "    X_test = X[i*fold_size:(i+1)*fold_size]\n",
        "    y_test = y[i*fold_size:(i+1)*fold_size]\n",
        "\n",
        "    # Train logistic regression model\n",
        "    model = LogisticRegression()\n",
        "    model.fit(X_train, y_train)\n",
        "\n",
        "    # Predict on test data\n",
        "    y_pred = model.predict(X_test)\n",
        "\n",
        "    # Calculate confusion matrix\n",
        "    conf_matrix = np.zeros((2, 2))\n",
        "    for true_label, pred_label in zip(y_test, y_pred):\n",
        "        conf_matrix[true_label][pred_label] += 1\n",
        "    conf_matrices.append(conf_matrix)\n",
        "\n",
        "    # Calculate accuracy\n",
        "    accuracy = np.sum(y_pred == y_test) / len(y_test)\n",
        "    accuracies.append(accuracy)\n",
        "\n",
        "# Define functions to calculate metrics\n",
        "def calculate_recall(conf_matrix):\n",
        "    true_positives = conf_matrix[1][1]\n",
        "    false_negatives = conf_matrix[1][0]\n",
        "    return true_positives / (true_positives + false_negatives)\n",
        "\n",
        "def calculate_precision(conf_matrix):\n",
        "    true_positives = conf_matrix[1][1]\n",
        "    false_positives = conf_matrix[0][1]\n",
        "    return true_positives / (true_positives + false_positives)\n",
        "\n",
        "def calculate_accuracy(conf_matrix):\n",
        "    true_positives = conf_matrix[1][1]\n",
        "    true_negatives = conf_matrix[0][0]\n",
        "    total = np.sum(conf_matrix)\n",
        "    return (true_positives + true_negatives) / total\n",
        "\n",
        "def calculate_f1_score(conf_matrix):\n",
        "    precision = calculate_precision(conf_matrix)\n",
        "    recall = calculate_recall(conf_matrix)\n",
        "    return 2 * (precision * recall) / (precision + recall)\n",
        "\n",
        "# Calculate metrics for each fold\n",
        "recalls = [calculate_recall(conf_matrix) for conf_matrix in conf_matrices]\n",
        "precisions = [calculate_precision(conf_matrix) for conf_matrix in conf_matrices]\n",
        "accuracies = [calculate_accuracy(conf_matrix) for conf_matrix in conf_matrices]\n",
        "f1_scores = [calculate_f1_score(conf_matrix) for conf_matrix in conf_matrices]\n",
        "\n",
        "# Print results for each fold\n",
        "for i, (conf_matrix, accuracy, recall, precision, f1_score) in enumerate(zip(conf_matrices, accuracies, recalls, precisions, f1_scores), 1):\n",
        "    print(f\"\\nMetrics for Fold {i}:\")\n",
        "    print(\"Confusion Matrix:\")\n",
        "    print(conf_matrix)\n",
        "    print(\"Accuracy:\", accuracy)\n",
        "    print(\"Recall:\", recall)\n",
        "    print(\"Precision:\", precision)\n",
        "    print(\"F1 Score:\", f1_score)\n",
        "\n",
        "# Print average metrics\n",
        "print(\"\\nAverage Metrics:\")\n",
        "print(\"Average Accuracy:\", np.mean(accuracies))\n",
        "print(\"Average Recall:\", np.mean(recalls))\n",
        "print(\"Average Precision:\", np.mean(precisions))\n",
        "print(\"Average F1 Score:\", np.mean(f1_scores))\n"
      ],
      "outputs": [
        {
          "output_type": "stream",
          "name": "stderr",
          "text": "/usr/local/lib/python3.10/dist-packages/sklearn/linear_model/_logistic.py:458: ConvergenceWarning: lbfgs failed to converge (status=1):\nSTOP: TOTAL NO. of ITERATIONS REACHED LIMIT.\n\nIncrease the number of iterations (max_iter) or scale the data as shown in:\n    https://scikit-learn.org/stable/modules/preprocessing.html\nPlease also refer to the documentation for alternative solver options:\n    https://scikit-learn.org/stable/modules/linear_model.html#logistic-regression\n  n_iter_i = _check_optimize_result(\n/usr/local/lib/python3.10/dist-packages/sklearn/linear_model/_logistic.py:458: ConvergenceWarning: lbfgs failed to converge (status=1):\nSTOP: TOTAL NO. of ITERATIONS REACHED LIMIT.\n\nIncrease the number of iterations (max_iter) or scale the data as shown in:\n    https://scikit-learn.org/stable/modules/preprocessing.html\nPlease also refer to the documentation for alternative solver options:\n    https://scikit-learn.org/stable/modules/linear_model.html#logistic-regression\n  n_iter_i = _check_optimize_result(\n/usr/local/lib/python3.10/dist-packages/sklearn/linear_model/_logistic.py:458: ConvergenceWarning: lbfgs failed to converge (status=1):\nSTOP: TOTAL NO. of ITERATIONS REACHED LIMIT.\n\nIncrease the number of iterations (max_iter) or scale the data as shown in:\n    https://scikit-learn.org/stable/modules/preprocessing.html\nPlease also refer to the documentation for alternative solver options:\n    https://scikit-learn.org/stable/modules/linear_model.html#logistic-regression\n  n_iter_i = _check_optimize_result(\n/usr/local/lib/python3.10/dist-packages/sklearn/linear_model/_logistic.py:458: ConvergenceWarning: lbfgs failed to converge (status=1):\nSTOP: TOTAL NO. of ITERATIONS REACHED LIMIT.\n\nIncrease the number of iterations (max_iter) or scale the data as shown in:\n    https://scikit-learn.org/stable/modules/preprocessing.html\nPlease also refer to the documentation for alternative solver options:\n    https://scikit-learn.org/stable/modules/linear_model.html#logistic-regression\n  n_iter_i = _check_optimize_result(\n/usr/local/lib/python3.10/dist-packages/sklearn/linear_model/_logistic.py:458: ConvergenceWarning: lbfgs failed to converge (status=1):\nSTOP: TOTAL NO. of ITERATIONS REACHED LIMIT.\n\nIncrease the number of iterations (max_iter) or scale the data as shown in:\n    https://scikit-learn.org/stable/modules/preprocessing.html\nPlease also refer to the documentation for alternative solver options:\n    https://scikit-learn.org/stable/modules/linear_model.html#logistic-regression\n  n_iter_i = _check_optimize_result(\n"
        },
        {
          "output_type": "stream",
          "name": "stdout",
          "text": "\nMetrics for Fold 1:\nConfusion Matrix:\n[[54.  9.]\n [17. 20.]]\nAccuracy: 0.74\nRecall: 0.5405405405405406\nPrecision: 0.6896551724137931\nF1 Score: 0.6060606060606061\n\nMetrics for Fold 2:\nConfusion Matrix:\n[[59.  3.]\n [16. 22.]]\nAccuracy: 0.81\nRecall: 0.5789473684210527\nPrecision: 0.88\nF1 Score: 0.6984126984126985\n\nMetrics for Fold 3:\nConfusion Matrix:\n[[48. 13.]\n [15. 24.]]\nAccuracy: 0.72\nRecall: 0.6153846153846154\nPrecision: 0.6486486486486487\nF1 Score: 0.631578947368421\n\nMetrics for Fold 4:\nConfusion Matrix:\n[[57.  5.]\n [18. 20.]]\nAccuracy: 0.77\nRecall: 0.5263157894736842\nPrecision: 0.8\nF1 Score: 0.6349206349206348\n\nMetrics for Fold 5:\nConfusion Matrix:\n[[59. 11.]\n [14. 16.]]\nAccuracy: 0.75\nRecall: 0.5333333333333333\nPrecision: 0.5925925925925926\nF1 Score: 0.5614035087719299\n\nMetrics for Fold 6:\nConfusion Matrix:\n[[72.  2.]\n [10. 16.]]\nAccuracy: 0.88\nRecall: 0.6153846153846154\nPrecision: 0.8888888888888888\nF1 Score: 0.7272727272727274\n\nAverage Metrics:\nAverage Accuracy: 0.7783333333333333\nAverage Recall: 0.5683177104229736\nAverage Precision: 0.7499642170906539\nAverage F1 Score: 0.6432748538011696\n"
        },
        {
          "output_type": "stream",
          "name": "stderr",
          "text": "/usr/local/lib/python3.10/dist-packages/sklearn/linear_model/_logistic.py:458: ConvergenceWarning: lbfgs failed to converge (status=1):\nSTOP: TOTAL NO. of ITERATIONS REACHED LIMIT.\n\nIncrease the number of iterations (max_iter) or scale the data as shown in:\n    https://scikit-learn.org/stable/modules/preprocessing.html\nPlease also refer to the documentation for alternative solver options:\n    https://scikit-learn.org/stable/modules/linear_model.html#logistic-regression\n  n_iter_i = _check_optimize_result(\n"
        }
      ],
      "execution_count": 221,
      "metadata": {
        "id": "nCsNq6_4RRrt",
        "colab": {
          "base_uri": "https://localhost:8080/"
        },
        "executionInfo": {
          "status": "ok",
          "timestamp": 1709090827293,
          "user_tz": -330,
          "elapsed": 1019,
          "user": {
            "displayName": "kush shrivastava",
            "userId": "06343033913709852627"
          }
        },
        "outputId": "948706ff-fc2c-45f1-eb8b-51f4e6b826a5"
      }
    },
    {
      "cell_type": "code",
      "source": [
        "import matplotlib.pyplot as plt\n",
        "\n",
        "# Plot barplot of metrics\n",
        "fig, ax = plt.subplots(figsize=(10, 6))\n",
        "bar_width = 0.2\n",
        "index = np.arange(K)\n",
        "\n",
        "rects1 = ax.bar(index, accuracies, bar_width, label='Accuracy')\n",
        "rects2 = ax.bar(index + bar_width, recalls, bar_width, label='Recall')\n",
        "rects3 = ax.bar(index + 2*bar_width, precisions, bar_width, label='Precision')\n",
        "rects4 = ax.bar(index + 3*bar_width, f1_scores, bar_width, label='F1 Score')\n",
        "\n",
        "ax.set_xlabel('Fold')\n",
        "ax.set_ylabel('Metric Value')\n",
        "ax.set_title('Metrics for K Models')\n",
        "ax.set_xticks(index + bar_width * 1.5)\n",
        "ax.set_xticklabels([f'Fold {i+1}' for i in range(K)])\n",
        "ax.legend()\n",
        "\n",
        "plt.tight_layout()\n",
        "plt.show()\n"
      ],
      "outputs": [
        {
          "output_type": "display_data",
          "data": {
            "text/plain": "<Figure size 1000x600 with 1 Axes>",
            "image/png": "[encoded data removed]"
          },
          "metadata": {}
        }
      ],
      "execution_count": 225,
      "metadata": {
        "id": "HX2LMpcORuz6",
        "colab": {
          "base_uri": "https://localhost:8080/",
          "height": 607
        },
        "executionInfo": {
          "status": "ok",
          "timestamp": 1709092254047,
          "user_tz": -330,
          "elapsed": 1877,
          "user": {
            "displayName": "kush shrivastava",
            "userId": "06343033913709852627"
          }
        },
        "outputId": "6fe6eff6-9f33-4c2c-e156-76de5859b003"
      }
    },
    {
      "cell_type": "code",
      "source": [
        "# Load testdata\n",
        "#Loading Dataset\n",
        "import numpy as np\n",
        "import csv\n",
        "\n",
        "#Loading Data\n",
        "with open('q4testdata_999601410.csv', 'r') as f:\n",
        "    reader = csv.reader(f)\n",
        "    diabetes_data_testt = list(reader)\n",
        "diabetes_data_test = np.array(diabetes_data_testt)\n",
        "\n",
        "diabetes_data_test =  diabetes_data[1:,]\n",
        "print(diabetes_data_test)"
      ],
      "outputs": [
        {
          "output_type": "stream",
          "name": "stdout",
          "text": "[['6' '96' '0' ... '23.7' '0.19' '28']\n ['1' '124' '74' ... '27.8' '0.1' '30']\n ['7' '150' '78' ... '35.2' '0.692' '54']\n ...\n ['5' '121' '72' ... '26.2' '0.245' '30']\n ['1' '126' '60' ... '30.1' '0.349' '47']\n ['1' '93' '70' ... '30.4' '0.315' '23']]\n"
        }
      ],
      "execution_count": 224,
      "metadata": {
        "id": "pbC5B8llR0m2",
        "colab": {
          "base_uri": "https://localhost:8080/"
        },
        "executionInfo": {
          "status": "ok",
          "timestamp": 1709091557678,
          "user_tz": -330,
          "elapsed": 416,
          "user": {
            "displayName": "kush shrivastava",
            "userId": "06343033913709852627"
          }
        },
        "outputId": "ea9e1942-6a6d-4ec1-b04a-3dfbf9d794be"
      }
    },
    {
      "cell_type": "code",
      "source": [
        "# Load the test data\n",
        "with open('q4testdata_999601410.csv', 'r') as f:\n",
        "    reader = csv.reader(f)\n",
        "    diabetes_data_testt = list(reader)\n",
        "diabetes_data_test = np.array(diabetes_data_testt)\n",
        "\n",
        "#Predict testdata and save into test_result.csv\n",
        "# Identify the fold with the highest F1 score\n",
        "best_fold_index = np.argmax(f1_scores)\n",
        "# Use the features and target variables from the sixth fold for training\n",
        "X_train = np.concatenate((X[:5*fold_size], X[6*fold_size:]), axis=0)\n",
        "y_train = np.concatenate((y[:5*fold_size], y[6*fold_size:]), axis=0)\n",
        "\n",
        "# Train logistic regression model using the sixth fold\n",
        "model = LogisticRegression()\n",
        "model.fit(X_train, y_train)\n",
        "\n",
        "# Get the logistic regression model trained on the fold with the highest F1 score\n",
        "best_model = LogisticRegression()\n",
        "best_model.fit(X_train, y_train)\n",
        "\n",
        "\n",
        "\n",
        "# Separate features (X_test) from the test data\n",
        "X_test = diabetes_data_test[1:, :].astype(float)\n",
        "\n",
        "# Predict on the test data using the best model\n",
        "test_predictions = best_model.predict(X_test)\n",
        "\n",
        "# Save the test predictions to a CSV file\n",
        "test_results = np.column_stack((np.arange(1, len(test_predictions) + 1), test_predictions))\n",
        "np.savetxt(\"AIML_2024_A1_22235_q4test.csv\", test_results, delimiter=\",\", fmt=\"%d\", header=\"ID,Outcome\", comments=\"\")\n",
        "\n",
        "# # y_pred is name for prediction data\n",
        "# np.savetxt('test_result.csv', y_pred, fmt='%s')"
      ],
      "outputs": [
        {
          "output_type": "stream",
          "name": "stderr",
          "text": "/usr/local/lib/python3.10/dist-packages/sklearn/linear_model/_logistic.py:458: ConvergenceWarning: lbfgs failed to converge (status=1):\nSTOP: TOTAL NO. of ITERATIONS REACHED LIMIT.\n\nIncrease the number of iterations (max_iter) or scale the data as shown in:\n    https://scikit-learn.org/stable/modules/preprocessing.html\nPlease also refer to the documentation for alternative solver options:\n    https://scikit-learn.org/stable/modules/linear_model.html#logistic-regression\n  n_iter_i = _check_optimize_result(\n/usr/local/lib/python3.10/dist-packages/sklearn/linear_model/_logistic.py:458: ConvergenceWarning: lbfgs failed to converge (status=1):\nSTOP: TOTAL NO. of ITERATIONS REACHED LIMIT.\n\nIncrease the number of iterations (max_iter) or scale the data as shown in:\n    https://scikit-learn.org/stable/modules/preprocessing.html\nPlease also refer to the documentation for alternative solver options:\n    https://scikit-learn.org/stable/modules/linear_model.html#logistic-regression\n  n_iter_i = _check_optimize_result(\n"
        }
      ],
      "execution_count": 227,
      "metadata": {
        "id": "wDsduaMWR6Mb",
        "colab": {
          "base_uri": "https://localhost:8080/"
        },
        "executionInfo": {
          "status": "ok",
          "timestamp": 1709093227100,
          "user_tz": -330,
          "elapsed": 896,
          "user": {
            "displayName": "kush shrivastava",
            "userId": "06343033913709852627"
          }
        },
        "outputId": "cd30a85b-c194-43e5-91f4-3521933aa02f"
      }
    }
  ],
  "metadata": {
    "colab": {
      "provenance": [
        {
          "file_id": "1TPgaoNpWJ5iBy4pDon1OYPyTTjLSvRzO",
          "timestamp": 1708074916626
        }
      ]
    },
    "kernelspec": {
      "display_name": "Python 3",
      "name": "python3"
    },
    "language_info": {
      "name": "python"
    },
    "nteract": {
      "version": "nteract-front-end@1.0.0"
    }
  },
  "nbformat": 4,
  "nbformat_minor": 0
}